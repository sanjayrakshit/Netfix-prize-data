{
 "cells": [
  {
   "cell_type": "code",
   "execution_count": 1,
   "metadata": {
    "collapsed": true
   },
   "outputs": [],
   "source": [
    "# In this ipython notebook we are going to extract info about the Movies"
   ]
  },
  {
   "cell_type": "code",
   "execution_count": 2,
   "metadata": {
    "collapsed": false
   },
   "outputs": [
    {
     "data": {
      "text/plain": [
       "(24053764, 5)"
      ]
     },
     "execution_count": 2,
     "metadata": {},
     "output_type": "execute_result"
    }
   ],
   "source": [
    "# Loading the data\n",
    "\n",
    "import pandas as pd\n",
    "df = pd.read_csv('../data/Wholedata-clean.csv')\n",
    "df.shape"
   ]
  },
  {
   "cell_type": "code",
   "execution_count": 3,
   "metadata": {
    "collapsed": true
   },
   "outputs": [],
   "source": [
    "# Storing the unique MovieIDs in a list\n",
    "\n",
    "MID = list(set(df.MovieID))"
   ]
  },
  {
   "cell_type": "code",
   "execution_count": 4,
   "metadata": {
    "collapsed": false
   },
   "outputs": [],
   "source": [
    "# Calcuating the charecteristics of each movie\n",
    "\n",
    "import numpy as sp\n",
    "count = []; mu = []; sig = []; var = []\n",
    "for i in MID:\n",
    "    X = df[df.MovieID==i]\n",
    "    Score = sp.array(X.Score)\n",
    "    del X\n",
    "    \n",
    "    c = Score.shape[0]\n",
    "    mean = sp.mean(Score)\n",
    "    stddev = sp.std(Score)\n",
    "    v = sp.var(Score)\n",
    "    \n",
    "    #Count, mean, std-dev, var of each movie\n",
    "    count.append(c); mu.append(mean) \n",
    "    sig.append(stddev); var.append(v)"
   ]
  },
  {
   "cell_type": "code",
   "execution_count": 5,
   "metadata": {
    "collapsed": true
   },
   "outputs": [],
   "source": [
    "# Creating a new df of the information\n",
    "\n",
    "movinf = pd.DataFrame({'MovieID':MID,'Mov-Freq':count,'Mov-Mean':mu,'Mov-std':sig,'Mov-var':var})"
   ]
  },
  {
   "cell_type": "code",
   "execution_count": 6,
   "metadata": {
    "collapsed": true
   },
   "outputs": [],
   "source": [
    "# Storing the df in a csv file\n",
    "\n",
    "movinf.to_csv('../data/Movie-info.csv')"
   ]
  }
 ],
 "metadata": {
  "kernelspec": {
   "display_name": "Python 2",
   "language": "python",
   "name": "python2"
  },
  "language_info": {
   "codemirror_mode": {
    "name": "ipython",
    "version": 2
   },
   "file_extension": ".py",
   "mimetype": "text/x-python",
   "name": "python",
   "nbconvert_exporter": "python",
   "pygments_lexer": "ipython2",
   "version": "2.7.13"
  }
 },
 "nbformat": 4,
 "nbformat_minor": 0
}
