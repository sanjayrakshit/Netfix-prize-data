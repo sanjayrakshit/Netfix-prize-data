{
 "cells": [
  {
   "cell_type": "code",
   "execution_count": 1,
   "metadata": {
    "collapsed": false
   },
   "outputs": [],
   "source": [
    "from os import path\n",
    "import graphlab as gl\n",
    "from datetime import datetime"
   ]
  },
  {
   "cell_type": "code",
   "execution_count": 2,
   "metadata": {
    "collapsed": false,
    "scrolled": true
   },
   "outputs": [
    {
     "name": "stdout",
     "output_type": "stream",
     "text": [
      "This non-commercial license of GraphLab Create for academic use is assigned to sanjay.griggs080@gmail.com and will expire on September 25, 2018.\n"
     ]
    },
    {
     "name": "stderr",
     "output_type": "stream",
     "text": [
      "[INFO] graphlab.cython.cy_server: GraphLab Create v2.1 started. Logging: /tmp/graphlab_server_1507186761.log\n"
     ]
    },
    {
     "data": {
      "text/html": [
       "<pre>Finished parsing file /home/sanjay/Netflix-prize-data/data/train-data.csv</pre>"
      ],
      "text/plain": [
       "Finished parsing file /home/sanjay/Netflix-prize-data/data/train-data.csv"
      ]
     },
     "metadata": {},
     "output_type": "display_data"
    },
    {
     "data": {
      "text/html": [
       "<pre>Parsing completed. Parsed 100 lines in 1.32867 secs.</pre>"
      ],
      "text/plain": [
       "Parsing completed. Parsed 100 lines in 1.32867 secs."
      ]
     },
     "metadata": {},
     "output_type": "display_data"
    },
    {
     "name": "stdout",
     "output_type": "stream",
     "text": [
      "------------------------------------------------------\n",
      "Inferred types from first 100 line(s) of file as \n",
      "column_type_hints=[int,int,int,int,int]\n",
      "If parsing fails due to incorrect types, you can correct\n",
      "the inferred type list above and pass it to read_csv in\n",
      "the column_type_hints argument\n",
      "------------------------------------------------------\n"
     ]
    },
    {
     "data": {
      "text/html": [
       "<pre>Read 1689547 lines. Lines per second: 728259</pre>"
      ],
      "text/plain": [
       "Read 1689547 lines. Lines per second: 728259"
      ]
     },
     "metadata": {},
     "output_type": "display_data"
    },
    {
     "data": {
      "text/html": [
       "<pre>Read 10125486 lines. Lines per second: 1.28705e+06</pre>"
      ],
      "text/plain": [
       "Read 10125486 lines. Lines per second: 1.28705e+06"
      ]
     },
     "metadata": {},
     "output_type": "display_data"
    },
    {
     "data": {
      "text/html": [
       "<pre>Finished parsing file /home/sanjay/Netflix-prize-data/data/train-data.csv</pre>"
      ],
      "text/plain": [
       "Finished parsing file /home/sanjay/Netflix-prize-data/data/train-data.csv"
      ]
     },
     "metadata": {},
     "output_type": "display_data"
    },
    {
     "data": {
      "text/html": [
       "<pre>Parsing completed. Parsed 16837634 lines in 11.2384 secs.</pre>"
      ],
      "text/plain": [
       "Parsing completed. Parsed 16837634 lines in 11.2384 secs."
      ]
     },
     "metadata": {},
     "output_type": "display_data"
    },
    {
     "data": {
      "text/html": [
       "<pre>Finished parsing file /home/sanjay/Netflix-prize-data/data/test-data.csv</pre>"
      ],
      "text/plain": [
       "Finished parsing file /home/sanjay/Netflix-prize-data/data/test-data.csv"
      ]
     },
     "metadata": {},
     "output_type": "display_data"
    },
    {
     "data": {
      "text/html": [
       "<pre>Parsing completed. Parsed 100 lines in 1.31462 secs.</pre>"
      ],
      "text/plain": [
       "Parsing completed. Parsed 100 lines in 1.31462 secs."
      ]
     },
     "metadata": {},
     "output_type": "display_data"
    },
    {
     "name": "stdout",
     "output_type": "stream",
     "text": [
      "------------------------------------------------------\n",
      "Inferred types from first 100 line(s) of file as \n",
      "column_type_hints=[int,int,int,int,int]\n",
      "If parsing fails due to incorrect types, you can correct\n",
      "the inferred type list above and pass it to read_csv in\n",
      "the column_type_hints argument\n",
      "------------------------------------------------------\n"
     ]
    },
    {
     "data": {
      "text/html": [
       "<pre>Read 1686501 lines. Lines per second: 730580</pre>"
      ],
      "text/plain": [
       "Read 1686501 lines. Lines per second: 730580"
      ]
     },
     "metadata": {},
     "output_type": "display_data"
    },
    {
     "data": {
      "text/html": [
       "<pre>Finished parsing file /home/sanjay/Netflix-prize-data/data/test-data.csv</pre>"
      ],
      "text/plain": [
       "Finished parsing file /home/sanjay/Netflix-prize-data/data/test-data.csv"
      ]
     },
     "metadata": {},
     "output_type": "display_data"
    },
    {
     "data": {
      "text/html": [
       "<pre>Parsing completed. Parsed 7216130 lines in 5.01637 secs.</pre>"
      ],
      "text/plain": [
       "Parsing completed. Parsed 7216130 lines in 5.01637 secs."
      ]
     },
     "metadata": {},
     "output_type": "display_data"
    }
   ],
   "source": [
    "# Path to the dataset directory\n",
    "data_dir = 'data/'\n",
    "\n",
    "# Table of interactions between users and items: userId, movieId, rating, timestamp\n",
    "actions_tr = gl.SFrame.read_csv('../data/train-data.csv')\n",
    "actions_ts = gl.SFrame.read_csv('../data/test-data.csv')"
   ]
  },
  {
   "cell_type": "code",
   "execution_count": 3,
   "metadata": {
    "collapsed": false,
    "scrolled": true
   },
   "outputs": [
    {
     "data": {
      "text/html": [
       "<pre>Recsys training: model = factorization_recommender</pre>"
      ],
      "text/plain": [
       "Recsys training: model = factorization_recommender"
      ]
     },
     "metadata": {},
     "output_type": "display_data"
    },
    {
     "data": {
      "text/html": [
       "<pre>Preparing data set.</pre>"
      ],
      "text/plain": [
       "Preparing data set."
      ]
     },
     "metadata": {},
     "output_type": "display_data"
    },
    {
     "data": {
      "text/html": [
       "<pre>    Data has 16837634 observations with 348244 users and 4310 items.</pre>"
      ],
      "text/plain": [
       "    Data has 16837634 observations with 348244 users and 4310 items."
      ]
     },
     "metadata": {},
     "output_type": "display_data"
    },
    {
     "data": {
      "text/html": [
       "<pre>    Data prepared in: 33.3603s</pre>"
      ],
      "text/plain": [
       "    Data prepared in: 33.3603s"
      ]
     },
     "metadata": {},
     "output_type": "display_data"
    },
    {
     "data": {
      "text/html": [
       "<pre>Training factorization_recommender for recommendations.</pre>"
      ],
      "text/plain": [
       "Training factorization_recommender for recommendations."
      ]
     },
     "metadata": {},
     "output_type": "display_data"
    },
    {
     "data": {
      "text/html": [
       "<pre>+--------------------------------+--------------------------------------------------+----------+</pre>"
      ],
      "text/plain": [
       "+--------------------------------+--------------------------------------------------+----------+"
      ]
     },
     "metadata": {},
     "output_type": "display_data"
    },
    {
     "data": {
      "text/html": [
       "<pre>| Parameter                      | Description                                      | Value    |</pre>"
      ],
      "text/plain": [
       "| Parameter                      | Description                                      | Value    |"
      ]
     },
     "metadata": {},
     "output_type": "display_data"
    },
    {
     "data": {
      "text/html": [
       "<pre>+--------------------------------+--------------------------------------------------+----------+</pre>"
      ],
      "text/plain": [
       "+--------------------------------+--------------------------------------------------+----------+"
      ]
     },
     "metadata": {},
     "output_type": "display_data"
    },
    {
     "data": {
      "text/html": [
       "<pre>| num_factors                    | Factor Dimension                                 | 200      |</pre>"
      ],
      "text/plain": [
       "| num_factors                    | Factor Dimension                                 | 200      |"
      ]
     },
     "metadata": {},
     "output_type": "display_data"
    },
    {
     "data": {
      "text/html": [
       "<pre>| regularization                 | L2 Regularization on Factors                     | 1e-08    |</pre>"
      ],
      "text/plain": [
       "| regularization                 | L2 Regularization on Factors                     | 1e-08    |"
      ]
     },
     "metadata": {},
     "output_type": "display_data"
    },
    {
     "data": {
      "text/html": [
       "<pre>| solver                         | Solver used for training                         | adagrad  |</pre>"
      ],
      "text/plain": [
       "| solver                         | Solver used for training                         | adagrad  |"
      ]
     },
     "metadata": {},
     "output_type": "display_data"
    },
    {
     "data": {
      "text/html": [
       "<pre>| linear_regularization          | L2 Regularization on Linear Coefficients         | 1e-10    |</pre>"
      ],
      "text/plain": [
       "| linear_regularization          | L2 Regularization on Linear Coefficients         | 1e-10    |"
      ]
     },
     "metadata": {},
     "output_type": "display_data"
    },
    {
     "data": {
      "text/html": [
       "<pre>| max_iterations                 | Maximum Number of Iterations                     | 1000     |</pre>"
      ],
      "text/plain": [
       "| max_iterations                 | Maximum Number of Iterations                     | 1000     |"
      ]
     },
     "metadata": {},
     "output_type": "display_data"
    },
    {
     "data": {
      "text/html": [
       "<pre>+--------------------------------+--------------------------------------------------+----------+</pre>"
      ],
      "text/plain": [
       "+--------------------------------+--------------------------------------------------+----------+"
      ]
     },
     "metadata": {},
     "output_type": "display_data"
    },
    {
     "data": {
      "text/html": [
       "<pre>  Optimizing model using SGD; tuning step size.</pre>"
      ],
      "text/plain": [
       "  Optimizing model using SGD; tuning step size."
      ]
     },
     "metadata": {},
     "output_type": "display_data"
    },
    {
     "data": {
      "text/html": [
       "<pre>  Using 2104704 / 16837634 points for tuning the step size.</pre>"
      ],
      "text/plain": [
       "  Using 2104704 / 16837634 points for tuning the step size."
      ]
     },
     "metadata": {},
     "output_type": "display_data"
    },
    {
     "data": {
      "text/html": [
       "<pre>+---------+-------------------+------------------------------------------+</pre>"
      ],
      "text/plain": [
       "+---------+-------------------+------------------------------------------+"
      ]
     },
     "metadata": {},
     "output_type": "display_data"
    },
    {
     "data": {
      "text/html": [
       "<pre>| Attempt | Initial Step Size | Estimated Objective Value                |</pre>"
      ],
      "text/plain": [
       "| Attempt | Initial Step Size | Estimated Objective Value                |"
      ]
     },
     "metadata": {},
     "output_type": "display_data"
    },
    {
     "data": {
      "text/html": [
       "<pre>+---------+-------------------+------------------------------------------+</pre>"
      ],
      "text/plain": [
       "+---------+-------------------+------------------------------------------+"
      ]
     },
     "metadata": {},
     "output_type": "display_data"
    },
    {
     "data": {
      "text/html": [
       "<pre>| 0       | 12.5              | Not Viable                               |</pre>"
      ],
      "text/plain": [
       "| 0       | 12.5              | Not Viable                               |"
      ]
     },
     "metadata": {},
     "output_type": "display_data"
    },
    {
     "data": {
      "text/html": [
       "<pre>| 1       | 3.125             | Not Viable                               |</pre>"
      ],
      "text/plain": [
       "| 1       | 3.125             | Not Viable                               |"
      ]
     },
     "metadata": {},
     "output_type": "display_data"
    },
    {
     "data": {
      "text/html": [
       "<pre>| 2       | 0.78125           | Not Viable                               |</pre>"
      ],
      "text/plain": [
       "| 2       | 0.78125           | Not Viable                               |"
      ]
     },
     "metadata": {},
     "output_type": "display_data"
    },
    {
     "data": {
      "text/html": [
       "<pre>| 3       | 0.195312          | Not Viable                               |</pre>"
      ],
      "text/plain": [
       "| 3       | 0.195312          | Not Viable                               |"
      ]
     },
     "metadata": {},
     "output_type": "display_data"
    },
    {
     "data": {
      "text/html": [
       "<pre>| 4       | 0.0488281         | Not Viable                               |</pre>"
      ],
      "text/plain": [
       "| 4       | 0.0488281         | Not Viable                               |"
      ]
     },
     "metadata": {},
     "output_type": "display_data"
    },
    {
     "data": {
      "text/html": [
       "<pre>| 5       | 0.012207          | Not Viable                               |</pre>"
      ],
      "text/plain": [
       "| 5       | 0.012207          | Not Viable                               |"
      ]
     },
     "metadata": {},
     "output_type": "display_data"
    },
    {
     "data": {
      "text/html": [
       "<pre>| 6       | 0.00305176        | 1.05636                                  |</pre>"
      ],
      "text/plain": [
       "| 6       | 0.00305176        | 1.05636                                  |"
      ]
     },
     "metadata": {},
     "output_type": "display_data"
    },
    {
     "data": {
      "text/html": [
       "<pre>| 7       | 0.00152588        | 1.09593                                  |</pre>"
      ],
      "text/plain": [
       "| 7       | 0.00152588        | 1.09593                                  |"
      ]
     },
     "metadata": {},
     "output_type": "display_data"
    },
    {
     "data": {
      "text/html": [
       "<pre>| 8       | 0.000762939       | No Decrease (1.46647 >= 1.17586)         |</pre>"
      ],
      "text/plain": [
       "| 8       | 0.000762939       | No Decrease (1.46647 >= 1.17586)         |"
      ]
     },
     "metadata": {},
     "output_type": "display_data"
    },
    {
     "data": {
      "text/html": [
       "<pre>| 9       | 0.000190735       | 1.06525                                  |</pre>"
      ],
      "text/plain": [
       "| 9       | 0.000190735       | 1.06525                                  |"
      ]
     },
     "metadata": {},
     "output_type": "display_data"
    },
    {
     "data": {
      "text/html": [
       "<pre>+---------+-------------------+------------------------------------------+</pre>"
      ],
      "text/plain": [
       "+---------+-------------------+------------------------------------------+"
      ]
     },
     "metadata": {},
     "output_type": "display_data"
    },
    {
     "data": {
      "text/html": [
       "<pre>| Final   | 0.00305176        | 1.05636                                  |</pre>"
      ],
      "text/plain": [
       "| Final   | 0.00305176        | 1.05636                                  |"
      ]
     },
     "metadata": {},
     "output_type": "display_data"
    },
    {
     "data": {
      "text/html": [
       "<pre>+---------+-------------------+------------------------------------------+</pre>"
      ],
      "text/plain": [
       "+---------+-------------------+------------------------------------------+"
      ]
     },
     "metadata": {},
     "output_type": "display_data"
    },
    {
     "data": {
      "text/html": [
       "<pre>Starting Optimization.</pre>"
      ],
      "text/plain": [
       "Starting Optimization."
      ]
     },
     "metadata": {},
     "output_type": "display_data"
    },
    {
     "data": {
      "text/html": [
       "<pre>+---------+--------------+-------------------+-----------------------+-------------+</pre>"
      ],
      "text/plain": [
       "+---------+--------------+-------------------+-----------------------+-------------+"
      ]
     },
     "metadata": {},
     "output_type": "display_data"
    },
    {
     "data": {
      "text/html": [
       "<pre>| Iter.   | Elapsed Time | Approx. Objective | Approx. Training RMSE | Step Size   |</pre>"
      ],
      "text/plain": [
       "| Iter.   | Elapsed Time | Approx. Objective | Approx. Training RMSE | Step Size   |"
      ]
     },
     "metadata": {},
     "output_type": "display_data"
    },
    {
     "data": {
      "text/html": [
       "<pre>+---------+--------------+-------------------+-----------------------+-------------+</pre>"
      ],
      "text/plain": [
       "+---------+--------------+-------------------+-----------------------+-------------+"
      ]
     },
     "metadata": {},
     "output_type": "display_data"
    },
    {
     "data": {
      "text/html": [
       "<pre>| Initial | 145us        | 1.17591           | 1.08439               |             |</pre>"
      ],
      "text/plain": [
       "| Initial | 145us        | 1.17591           | 1.08439               |             |"
      ]
     },
     "metadata": {},
     "output_type": "display_data"
    },
    {
     "data": {
      "text/html": [
       "<pre>+---------+--------------+-------------------+-----------------------+-------------+</pre>"
      ],
      "text/plain": [
       "+---------+--------------+-------------------+-----------------------+-------------+"
      ]
     },
     "metadata": {},
     "output_type": "display_data"
    },
    {
     "data": {
      "text/html": [
       "<pre>| 1       | 1m 1s        | 1.07324           | 1.03596               | 0.00305176  |</pre>"
      ],
      "text/plain": [
       "| 1       | 1m 1s        | 1.07324           | 1.03596               | 0.00305176  |"
      ]
     },
     "metadata": {},
     "output_type": "display_data"
    },
    {
     "data": {
      "text/html": [
       "<pre>| 2       | 2m 6s        | 1.12436           | 1.06033               | 0.00305176  |</pre>"
      ],
      "text/plain": [
       "| 2       | 2m 6s        | 1.12436           | 1.06033               | 0.00305176  |"
      ]
     },
     "metadata": {},
     "output_type": "display_data"
    },
    {
     "data": {
      "text/html": [
       "<pre>| 3       | 3m 8s        | 1.33792           | 1.15665               | 0.00305176  |</pre>"
      ],
      "text/plain": [
       "| 3       | 3m 8s        | 1.33792           | 1.15665               | 0.00305176  |"
      ]
     },
     "metadata": {},
     "output_type": "display_data"
    },
    {
     "data": {
      "text/html": [
       "<pre>| 4       | 4m 18s       | DIVERGED          | DIVERGED              | 0.00305176  |</pre>"
      ],
      "text/plain": [
       "| 4       | 4m 18s       | DIVERGED          | DIVERGED              | 0.00305176  |"
      ]
     },
     "metadata": {},
     "output_type": "display_data"
    },
    {
     "data": {
      "text/html": [
       "<pre>| RESET   | 4m 28s       | 1.17571           | 1.0843                |             |</pre>"
      ],
      "text/plain": [
       "| RESET   | 4m 28s       | 1.17571           | 1.0843                |             |"
      ]
     },
     "metadata": {},
     "output_type": "display_data"
    },
    {
     "data": {
      "text/html": [
       "<pre>| 1       | 5m 30s       | 1.4692            | 1.2121                | 0.00152588  |</pre>"
      ],
      "text/plain": [
       "| 1       | 5m 30s       | 1.4692            | 1.2121                | 0.00152588  |"
      ]
     },
     "metadata": {},
     "output_type": "display_data"
    },
    {
     "data": {
      "text/html": [
       "<pre>| 2       | 6m 32s       | 1.09758           | 1.04765               | 0.00152588  |</pre>"
      ],
      "text/plain": [
       "| 2       | 6m 32s       | 1.09758           | 1.04765               | 0.00152588  |"
      ]
     },
     "metadata": {},
     "output_type": "display_data"
    },
    {
     "data": {
      "text/html": [
       "<pre>| 3       | 7m 34s       | 1.05934           | 1.02923               | 0.00152588  |</pre>"
      ],
      "text/plain": [
       "| 3       | 7m 34s       | 1.05934           | 1.02923               | 0.00152588  |"
      ]
     },
     "metadata": {},
     "output_type": "display_data"
    },
    {
     "data": {
      "text/html": [
       "<pre>| 4       | 8m 36s       | 1.03953           | 1.01956               | 0.00152588  |</pre>"
      ],
      "text/plain": [
       "| 4       | 8m 36s       | 1.03953           | 1.01956               | 0.00152588  |"
      ]
     },
     "metadata": {},
     "output_type": "display_data"
    },
    {
     "data": {
      "text/html": [
       "<pre>| 5       | 9m 38s       | 1.03234           | 1.01603               | 0.00152588  |</pre>"
      ],
      "text/plain": [
       "| 5       | 9m 38s       | 1.03234           | 1.01603               | 0.00152588  |"
      ]
     },
     "metadata": {},
     "output_type": "display_data"
    },
    {
     "data": {
      "text/html": [
       "<pre>| 6       | 10m 40s      | 1.01835           | 1.00912               | 0.00152588  |</pre>"
      ],
      "text/plain": [
       "| 6       | 10m 40s      | 1.01835           | 1.00912               | 0.00152588  |"
      ]
     },
     "metadata": {},
     "output_type": "display_data"
    },
    {
     "data": {
      "text/html": [
       "<pre>| 7       | 11m 41s      | 1.00606           | 1.00301               | 0.00152588  |</pre>"
      ],
      "text/plain": [
       "| 7       | 11m 41s      | 1.00606           | 1.00301               | 0.00152588  |"
      ]
     },
     "metadata": {},
     "output_type": "display_data"
    },
    {
     "data": {
      "text/html": [
       "<pre>| 8       | 12m 43s      | 0.998208          | 0.999088              | 0.00152588  |</pre>"
      ],
      "text/plain": [
       "| 8       | 12m 43s      | 0.998208          | 0.999088              | 0.00152588  |"
      ]
     },
     "metadata": {},
     "output_type": "display_data"
    },
    {
     "data": {
      "text/html": [
       "<pre>| 9       | 13m 44s      | 0.991502          | 0.995725              | 0.00152588  |</pre>"
      ],
      "text/plain": [
       "| 9       | 13m 44s      | 0.991502          | 0.995725              | 0.00152588  |"
      ]
     },
     "metadata": {},
     "output_type": "display_data"
    },
    {
     "data": {
      "text/html": [
       "<pre>| 10      | 14m 46s      | 0.980293          | 0.99008               | 0.00152588  |</pre>"
      ],
      "text/plain": [
       "| 10      | 14m 46s      | 0.980293          | 0.99008               | 0.00152588  |"
      ]
     },
     "metadata": {},
     "output_type": "display_data"
    },
    {
     "data": {
      "text/html": [
       "<pre>| 11      | 15m 47s      | 0.980373          | 0.99012               | 0.00152588  |</pre>"
      ],
      "text/plain": [
       "| 11      | 15m 47s      | 0.980373          | 0.99012               | 0.00152588  |"
      ]
     },
     "metadata": {},
     "output_type": "display_data"
    },
    {
     "data": {
      "text/html": [
       "<pre>| 12      | 16m 49s      | 0.98337           | 0.991631              | 0.00152588  |</pre>"
      ],
      "text/plain": [
       "| 12      | 16m 49s      | 0.98337           | 0.991631              | 0.00152588  |"
      ]
     },
     "metadata": {},
     "output_type": "display_data"
    },
    {
     "data": {
      "text/html": [
       "<pre>| 13      | 17m 50s      | 0.985506          | 0.992707              | 0.00152588  |</pre>"
      ],
      "text/plain": [
       "| 13      | 17m 50s      | 0.985506          | 0.992707              | 0.00152588  |"
      ]
     },
     "metadata": {},
     "output_type": "display_data"
    },
    {
     "data": {
      "text/html": [
       "<pre>| 14      | 18m 52s      | 0.999276          | 0.999618              | 0.00152588  |</pre>"
      ],
      "text/plain": [
       "| 14      | 18m 52s      | 0.999276          | 0.999618              | 0.00152588  |"
      ]
     },
     "metadata": {},
     "output_type": "display_data"
    },
    {
     "data": {
      "text/html": [
       "<pre>| 15      | 19m 55s      | 1.01302           | 1.00647               | 0.00152588  |</pre>"
      ],
      "text/plain": [
       "| 15      | 19m 55s      | 1.01302           | 1.00647               | 0.00152588  |"
      ]
     },
     "metadata": {},
     "output_type": "display_data"
    },
    {
     "data": {
      "text/html": [
       "<pre>| 16      | 20m 56s      | 1.01297           | 1.00644               | 0.00152588  |</pre>"
      ],
      "text/plain": [
       "| 16      | 20m 56s      | 1.01297           | 1.00644               | 0.00152588  |"
      ]
     },
     "metadata": {},
     "output_type": "display_data"
    },
    {
     "data": {
      "text/html": [
       "<pre>| 17      | 21m 58s      | 1.00861           | 1.00427               | 0.00152588  |</pre>"
      ],
      "text/plain": [
       "| 17      | 21m 58s      | 1.00861           | 1.00427               | 0.00152588  |"
      ]
     },
     "metadata": {},
     "output_type": "display_data"
    },
    {
     "data": {
      "text/html": [
       "<pre>| 18      | 23m 0s       | 1.01985           | 1.00986               | 0.00152588  |</pre>"
      ],
      "text/plain": [
       "| 18      | 23m 0s       | 1.01985           | 1.00986               | 0.00152588  |"
      ]
     },
     "metadata": {},
     "output_type": "display_data"
    },
    {
     "data": {
      "text/html": [
       "<pre>| 19      | 24m 2s       | 1.01906           | 1.00946               | 0.00152588  |</pre>"
      ],
      "text/plain": [
       "| 19      | 24m 2s       | 1.01906           | 1.00946               | 0.00152588  |"
      ]
     },
     "metadata": {},
     "output_type": "display_data"
    },
    {
     "data": {
      "text/html": [
       "<pre>| 20      | 25m 4s       | 1.01066           | 1.00529               | 0.00152588  |</pre>"
      ],
      "text/plain": [
       "| 20      | 25m 4s       | 1.01066           | 1.00529               | 0.00152588  |"
      ]
     },
     "metadata": {},
     "output_type": "display_data"
    },
    {
     "data": {
      "text/html": [
       "<pre>| 21      | 26m 6s       | 1.00988           | 1.0049                | 0.00152588  |</pre>"
      ],
      "text/plain": [
       "| 21      | 26m 6s       | 1.00988           | 1.0049                | 0.00152588  |"
      ]
     },
     "metadata": {},
     "output_type": "display_data"
    },
    {
     "data": {
      "text/html": [
       "<pre>| 22      | 27m 8s       | 1.01323           | 1.00657               | 0.00152588  |</pre>"
      ],
      "text/plain": [
       "| 22      | 27m 8s       | 1.01323           | 1.00657               | 0.00152588  |"
      ]
     },
     "metadata": {},
     "output_type": "display_data"
    },
    {
     "data": {
      "text/html": [
       "<pre>| 23      | 28m 10s      | 1.01433           | 1.00711               | 0.00152588  |</pre>"
      ],
      "text/plain": [
       "| 23      | 28m 10s      | 1.01433           | 1.00711               | 0.00152588  |"
      ]
     },
     "metadata": {},
     "output_type": "display_data"
    },
    {
     "data": {
      "text/html": [
       "<pre>| 24      | 29m 12s      | 1.01236           | 1.00614               | 0.00152588  |</pre>"
      ],
      "text/plain": [
       "| 24      | 29m 12s      | 1.01236           | 1.00614               | 0.00152588  |"
      ]
     },
     "metadata": {},
     "output_type": "display_data"
    },
    {
     "data": {
      "text/html": [
       "<pre>| 25      | 30m 14s      | 1.00972           | 1.00482               | 0.00152588  |</pre>"
      ],
      "text/plain": [
       "| 25      | 30m 14s      | 1.00972           | 1.00482               | 0.00152588  |"
      ]
     },
     "metadata": {},
     "output_type": "display_data"
    },
    {
     "data": {
      "text/html": [
       "<pre>| 26      | 31m 16s      | 1.00773           | 1.00383               | 0.00152588  |</pre>"
      ],
      "text/plain": [
       "| 26      | 31m 16s      | 1.00773           | 1.00383               | 0.00152588  |"
      ]
     },
     "metadata": {},
     "output_type": "display_data"
    },
    {
     "data": {
      "text/html": [
       "<pre>| 27      | 32m 20s      | 1.00554           | 1.00274               | 0.00152588  |</pre>"
      ],
      "text/plain": [
       "| 27      | 32m 20s      | 1.00554           | 1.00274               | 0.00152588  |"
      ]
     },
     "metadata": {},
     "output_type": "display_data"
    },
    {
     "data": {
      "text/html": [
       "<pre>| 28      | 33m 22s      | 1.00922           | 1.00457               | 0.00152588  |</pre>"
      ],
      "text/plain": [
       "| 28      | 33m 22s      | 1.00922           | 1.00457               | 0.00152588  |"
      ]
     },
     "metadata": {},
     "output_type": "display_data"
    },
    {
     "data": {
      "text/html": [
       "<pre>| 29      | 34m 28s      | 1.0111            | 1.0055                | 0.00152588  |</pre>"
      ],
      "text/plain": [
       "| 29      | 34m 28s      | 1.0111            | 1.0055                | 0.00152588  |"
      ]
     },
     "metadata": {},
     "output_type": "display_data"
    },
    {
     "data": {
      "text/html": [
       "<pre>| 30      | 35m 30s      | 1.00857           | 1.00424               | 0.00152588  |</pre>"
      ],
      "text/plain": [
       "| 30      | 35m 30s      | 1.00857           | 1.00424               | 0.00152588  |"
      ]
     },
     "metadata": {},
     "output_type": "display_data"
    },
    {
     "data": {
      "text/html": [
       "<pre>| 31      | 36m 33s      | 1.00707           | 1.00349               | 0.00152588  |</pre>"
      ],
      "text/plain": [
       "| 31      | 36m 33s      | 1.00707           | 1.00349               | 0.00152588  |"
      ]
     },
     "metadata": {},
     "output_type": "display_data"
    },
    {
     "data": {
      "text/html": [
       "<pre>| 32      | 37m 35s      | 1.01036           | 1.00513               | 0.00152588  |</pre>"
      ],
      "text/plain": [
       "| 32      | 37m 35s      | 1.01036           | 1.00513               | 0.00152588  |"
      ]
     },
     "metadata": {},
     "output_type": "display_data"
    },
    {
     "data": {
      "text/html": [
       "<pre>| 33      | 38m 40s      | 1.01246           | 1.00617               | 0.00152588  |</pre>"
      ],
      "text/plain": [
       "| 33      | 38m 40s      | 1.01246           | 1.00617               | 0.00152588  |"
      ]
     },
     "metadata": {},
     "output_type": "display_data"
    },
    {
     "data": {
      "text/html": [
       "<pre>| 34      | 39m 43s      | 1.00988           | 1.00489               | 0.00152588  |</pre>"
      ],
      "text/plain": [
       "| 34      | 39m 43s      | 1.00988           | 1.00489               | 0.00152588  |"
      ]
     },
     "metadata": {},
     "output_type": "display_data"
    },
    {
     "data": {
      "text/html": [
       "<pre>| 35      | 40m 45s      | 1.01009           | 1.00499               | 0.00152588  |</pre>"
      ],
      "text/plain": [
       "| 35      | 40m 45s      | 1.01009           | 1.00499               | 0.00152588  |"
      ]
     },
     "metadata": {},
     "output_type": "display_data"
    },
    {
     "data": {
      "text/html": [
       "<pre>| 36      | 41m 47s      | 1.01572           | 1.00779               | 0.00152588  |</pre>"
      ],
      "text/plain": [
       "| 36      | 41m 47s      | 1.01572           | 1.00779               | 0.00152588  |"
      ]
     },
     "metadata": {},
     "output_type": "display_data"
    },
    {
     "data": {
      "text/html": [
       "<pre>| 37      | 42m 48s      | 1.01164           | 1.00576               | 0.00152588  |</pre>"
      ],
      "text/plain": [
       "| 37      | 42m 48s      | 1.01164           | 1.00576               | 0.00152588  |"
      ]
     },
     "metadata": {},
     "output_type": "display_data"
    },
    {
     "data": {
      "text/html": [
       "<pre>| 38      | 43m 50s      | 1.01085           | 1.00536               | 0.00152588  |</pre>"
      ],
      "text/plain": [
       "| 38      | 43m 50s      | 1.01085           | 1.00536               | 0.00152588  |"
      ]
     },
     "metadata": {},
     "output_type": "display_data"
    },
    {
     "data": {
      "text/html": [
       "<pre>| 39      | 44m 54s      | 1.01078           | 1.00533               | 0.00152588  |</pre>"
      ],
      "text/plain": [
       "| 39      | 44m 54s      | 1.01078           | 1.00533               | 0.00152588  |"
      ]
     },
     "metadata": {},
     "output_type": "display_data"
    },
    {
     "data": {
      "text/html": [
       "<pre>| 40      | 45m 56s      | 1.01314           | 1.0065                | 0.00152588  |</pre>"
      ],
      "text/plain": [
       "| 40      | 45m 56s      | 1.01314           | 1.0065                | 0.00152588  |"
      ]
     },
     "metadata": {},
     "output_type": "display_data"
    },
    {
     "data": {
      "text/html": [
       "<pre>| 41      | 46m 57s      | 1.0064            | 1.00314               | 0.00152588  |</pre>"
      ],
      "text/plain": [
       "| 41      | 46m 57s      | 1.0064            | 1.00314               | 0.00152588  |"
      ]
     },
     "metadata": {},
     "output_type": "display_data"
    },
    {
     "data": {
      "text/html": [
       "<pre>| 42      | 47m 59s      | 1.00387           | 1.00188               | 0.00152588  |</pre>"
      ],
      "text/plain": [
       "| 42      | 47m 59s      | 1.00387           | 1.00188               | 0.00152588  |"
      ]
     },
     "metadata": {},
     "output_type": "display_data"
    },
    {
     "data": {
      "text/html": [
       "<pre>| 43      | 49m 1s       | 1.00893           | 1.0044                | 0.00152588  |</pre>"
      ],
      "text/plain": [
       "| 43      | 49m 1s       | 1.00893           | 1.0044                | 0.00152588  |"
      ]
     },
     "metadata": {},
     "output_type": "display_data"
    },
    {
     "data": {
      "text/html": [
       "<pre>| 44      | 50m 3s       | 0.998591          | 0.999243              | 0.00152588  |</pre>"
      ],
      "text/plain": [
       "| 44      | 50m 3s       | 0.998591          | 0.999243              | 0.00152588  |"
      ]
     },
     "metadata": {},
     "output_type": "display_data"
    },
    {
     "data": {
      "text/html": [
       "<pre>| 45      | 51m 5s       | 0.994218          | 0.997051              | 0.00152588  |</pre>"
      ],
      "text/plain": [
       "| 45      | 51m 5s       | 0.994218          | 0.997051              | 0.00152588  |"
      ]
     },
     "metadata": {},
     "output_type": "display_data"
    },
    {
     "data": {
      "text/html": [
       "<pre>| 46      | 52m 7s       | 0.984957          | 0.992396              | 0.00152588  |</pre>"
      ],
      "text/plain": [
       "| 46      | 52m 7s       | 0.984957          | 0.992396              | 0.00152588  |"
      ]
     },
     "metadata": {},
     "output_type": "display_data"
    },
    {
     "data": {
      "text/html": [
       "<pre>| 47      | 53m 8s       | 0.981078          | 0.990439              | 0.00152588  |</pre>"
      ],
      "text/plain": [
       "| 47      | 53m 8s       | 0.981078          | 0.990439              | 0.00152588  |"
      ]
     },
     "metadata": {},
     "output_type": "display_data"
    },
    {
     "data": {
      "text/html": [
       "<pre>| 48      | 54m 10s      | 0.995733          | 0.997808              | 0.00152588  |</pre>"
      ],
      "text/plain": [
       "| 48      | 54m 10s      | 0.995733          | 0.997808              | 0.00152588  |"
      ]
     },
     "metadata": {},
     "output_type": "display_data"
    },
    {
     "data": {
      "text/html": [
       "<pre>| 49      | 55m 12s      | 0.973008          | 0.986354              | 0.00152588  |</pre>"
      ],
      "text/plain": [
       "| 49      | 55m 12s      | 0.973008          | 0.986354              | 0.00152588  |"
      ]
     },
     "metadata": {},
     "output_type": "display_data"
    },
    {
     "data": {
      "text/html": [
       "<pre>| 50      | 56m 14s      | 0.964328          | 0.981944              | 0.00152588  |</pre>"
      ],
      "text/plain": [
       "| 50      | 56m 14s      | 0.964328          | 0.981944              | 0.00152588  |"
      ]
     },
     "metadata": {},
     "output_type": "display_data"
    },
    {
     "data": {
      "text/html": [
       "<pre>| 51      | 57m 17s      | 0.988817          | 0.994334              | 0.00152588  |</pre>"
      ],
      "text/plain": [
       "| 51      | 57m 17s      | 0.988817          | 0.994334              | 0.00152588  |"
      ]
     },
     "metadata": {},
     "output_type": "display_data"
    },
    {
     "data": {
      "text/html": [
       "<pre>| 52      | 58m 18s      | 0.964506          | 0.982033              | 0.00152588  |</pre>"
      ],
      "text/plain": [
       "| 52      | 58m 18s      | 0.964506          | 0.982033              | 0.00152588  |"
      ]
     },
     "metadata": {},
     "output_type": "display_data"
    },
    {
     "data": {
      "text/html": [
       "<pre>| 53      | 59m 21s      | 0.963794          | 0.981669              | 0.00152588  |</pre>"
      ],
      "text/plain": [
       "| 53      | 59m 21s      | 0.963794          | 0.981669              | 0.00152588  |"
      ]
     },
     "metadata": {},
     "output_type": "display_data"
    },
    {
     "data": {
      "text/html": [
       "<pre>| 54      | 1h 0m        | 0.957306          | 0.978358              | 0.00152588  |</pre>"
      ],
      "text/plain": [
       "| 54      | 1h 0m        | 0.957306          | 0.978358              | 0.00152588  |"
      ]
     },
     "metadata": {},
     "output_type": "display_data"
    },
    {
     "data": {
      "text/html": [
       "<pre>| 55      | 1h 1m        | 0.957103          | 0.978253              | 0.00152588  |</pre>"
      ],
      "text/plain": [
       "| 55      | 1h 1m        | 0.957103          | 0.978253              | 0.00152588  |"
      ]
     },
     "metadata": {},
     "output_type": "display_data"
    },
    {
     "data": {
      "text/html": [
       "<pre>| 56      | 1h 2m        | 0.966142          | 0.982861              | 0.00152588  |</pre>"
      ],
      "text/plain": [
       "| 56      | 1h 2m        | 0.966142          | 0.982861              | 0.00152588  |"
      ]
     },
     "metadata": {},
     "output_type": "display_data"
    },
    {
     "data": {
      "text/html": [
       "<pre>| 57      | 1h 3m        | 0.955513          | 0.977438              | 0.00152588  |</pre>"
      ],
      "text/plain": [
       "| 57      | 1h 3m        | 0.955513          | 0.977438              | 0.00152588  |"
      ]
     },
     "metadata": {},
     "output_type": "display_data"
    },
    {
     "data": {
      "text/html": [
       "<pre>| 58      | 1h 4m        | 0.95325           | 0.976279              | 0.00152588  |</pre>"
      ],
      "text/plain": [
       "| 58      | 1h 4m        | 0.95325           | 0.976279              | 0.00152588  |"
      ]
     },
     "metadata": {},
     "output_type": "display_data"
    },
    {
     "data": {
      "text/html": [
       "<pre>| 59      | 1h 5m        | 0.965762          | 0.982665              | 0.00152588  |</pre>"
      ],
      "text/plain": [
       "| 59      | 1h 5m        | 0.965762          | 0.982665              | 0.00152588  |"
      ]
     },
     "metadata": {},
     "output_type": "display_data"
    },
    {
     "data": {
      "text/html": [
       "<pre>| 60      | 1h 6m        | 0.963977          | 0.981755              | 0.00152588  |</pre>"
      ],
      "text/plain": [
       "| 60      | 1h 6m        | 0.963977          | 0.981755              | 0.00152588  |"
      ]
     },
     "metadata": {},
     "output_type": "display_data"
    },
    {
     "data": {
      "text/html": [
       "<pre>| 61      | 1h 7m        | 0.950927          | 0.975086              | 0.00152588  |</pre>"
      ],
      "text/plain": [
       "| 61      | 1h 7m        | 0.950927          | 0.975086              | 0.00152588  |"
      ]
     },
     "metadata": {},
     "output_type": "display_data"
    },
    {
     "data": {
      "text/html": [
       "<pre>| 62      | 1h 8m        | 0.964167          | 0.98185               | 0.00152588  |</pre>"
      ],
      "text/plain": [
       "| 62      | 1h 8m        | 0.964167          | 0.98185               | 0.00152588  |"
      ]
     },
     "metadata": {},
     "output_type": "display_data"
    },
    {
     "data": {
      "text/html": [
       "<pre>| 63      | 1h 9m        | 0.946838          | 0.972985              | 0.00152588  |</pre>"
      ],
      "text/plain": [
       "| 63      | 1h 9m        | 0.946838          | 0.972985              | 0.00152588  |"
      ]
     },
     "metadata": {},
     "output_type": "display_data"
    },
    {
     "data": {
      "text/html": [
       "<pre>| 64      | 1h 10m       | 0.951817          | 0.975539              | 0.00152588  |</pre>"
      ],
      "text/plain": [
       "| 64      | 1h 10m       | 0.951817          | 0.975539              | 0.00152588  |"
      ]
     },
     "metadata": {},
     "output_type": "display_data"
    },
    {
     "data": {
      "text/html": [
       "<pre>| 65      | 1h 11m       | 0.96349           | 0.981503              | 0.00152588  |</pre>"
      ],
      "text/plain": [
       "| 65      | 1h 11m       | 0.96349           | 0.981503              | 0.00152588  |"
      ]
     },
     "metadata": {},
     "output_type": "display_data"
    },
    {
     "data": {
      "text/html": [
       "<pre>| 66      | 1h 12m       | 0.957176          | 0.97828               | 0.00152588  |</pre>"
      ],
      "text/plain": [
       "| 66      | 1h 12m       | 0.957176          | 0.97828               | 0.00152588  |"
      ]
     },
     "metadata": {},
     "output_type": "display_data"
    },
    {
     "data": {
      "text/html": [
       "<pre>| 67      | 1h 13m       | 0.964271          | 0.981899              | 0.00152588  |</pre>"
      ],
      "text/plain": [
       "| 67      | 1h 13m       | 0.964271          | 0.981899              | 0.00152588  |"
      ]
     },
     "metadata": {},
     "output_type": "display_data"
    },
    {
     "data": {
      "text/html": [
       "<pre>| 68      | 1h 14m       | 0.958964          | 0.979192              | 0.00152588  |</pre>"
      ],
      "text/plain": [
       "| 68      | 1h 14m       | 0.958964          | 0.979192              | 0.00152588  |"
      ]
     },
     "metadata": {},
     "output_type": "display_data"
    },
    {
     "data": {
      "text/html": [
       "<pre>| 69      | 1h 15m       | 0.964301          | 0.981913              | 0.00152588  |</pre>"
      ],
      "text/plain": [
       "| 69      | 1h 15m       | 0.964301          | 0.981913              | 0.00152588  |"
      ]
     },
     "metadata": {},
     "output_type": "display_data"
    },
    {
     "data": {
      "text/html": [
       "<pre>| 70      | 1h 16m       | 0.977932          | 0.988829              | 0.00152588  |</pre>"
      ],
      "text/plain": [
       "| 70      | 1h 16m       | 0.977932          | 0.988829              | 0.00152588  |"
      ]
     },
     "metadata": {},
     "output_type": "display_data"
    },
    {
     "data": {
      "text/html": [
       "<pre>| 71      | 1h 17m       | 1.00484           | 1.00234               | 0.00152588  |</pre>"
      ],
      "text/plain": [
       "| 71      | 1h 17m       | 1.00484           | 1.00234               | 0.00152588  |"
      ]
     },
     "metadata": {},
     "output_type": "display_data"
    },
    {
     "data": {
      "text/html": [
       "<pre>| 72      | 1h 19m       | 1.10238           | 1.04987               | 0.00152588  |</pre>"
      ],
      "text/plain": [
       "| 72      | 1h 19m       | 1.10238           | 1.04987               | 0.00152588  |"
      ]
     },
     "metadata": {},
     "output_type": "display_data"
    },
    {
     "data": {
      "text/html": [
       "<pre>| 73      | 1h 20m       | 1.19621           | 1.09365               | 0.00152588  |</pre>"
      ],
      "text/plain": [
       "| 73      | 1h 20m       | 1.19621           | 1.09365               | 0.00152588  |"
      ]
     },
     "metadata": {},
     "output_type": "display_data"
    },
    {
     "data": {
      "text/html": [
       "<pre>| 74      | 1h 21m       | DIVERGED          | DIVERGED              | 0.00152588  |</pre>"
      ],
      "text/plain": [
       "| 74      | 1h 21m       | DIVERGED          | DIVERGED              | 0.00152588  |"
      ]
     },
     "metadata": {},
     "output_type": "display_data"
    },
    {
     "data": {
      "text/html": [
       "<pre>| RESET   | 1h 21m       | 1.1759            | 1.08439               |             |</pre>"
      ],
      "text/plain": [
       "| RESET   | 1h 21m       | 1.1759            | 1.08439               |             |"
      ]
     },
     "metadata": {},
     "output_type": "display_data"
    },
    {
     "data": {
      "text/html": [
       "<pre>| 1       | 1h 22m       | 1.47233           | 1.21339               | 0.000762939 |</pre>"
      ],
      "text/plain": [
       "| 1       | 1h 22m       | 1.47233           | 1.21339               | 0.000762939 |"
      ]
     },
     "metadata": {},
     "output_type": "display_data"
    },
    {
     "data": {
      "text/html": [
       "<pre>| 2       | 1h 23m       | 1.22713           | 1.10775               | 0.000762939 |</pre>"
      ],
      "text/plain": [
       "| 2       | 1h 23m       | 1.22713           | 1.10775               | 0.000762939 |"
      ]
     },
     "metadata": {},
     "output_type": "display_data"
    },
    {
     "data": {
      "text/html": [
       "<pre>| 3       | 1h 24m       | 1.13294           | 1.06439               | 0.000762939 |</pre>"
      ],
      "text/plain": [
       "| 3       | 1h 24m       | 1.13294           | 1.06439               | 0.000762939 |"
      ]
     },
     "metadata": {},
     "output_type": "display_data"
    },
    {
     "data": {
      "text/html": [
       "<pre>| 4       | 1h 25m       | 1.10729           | 1.05227               | 0.000762939 |</pre>"
      ],
      "text/plain": [
       "| 4       | 1h 25m       | 1.10729           | 1.05227               | 0.000762939 |"
      ]
     },
     "metadata": {},
     "output_type": "display_data"
    },
    {
     "data": {
      "text/html": [
       "<pre>| 5       | 1h 26m       | 1.0849            | 1.04158               | 0.000762939 |</pre>"
      ],
      "text/plain": [
       "| 5       | 1h 26m       | 1.0849            | 1.04158               | 0.000762939 |"
      ]
     },
     "metadata": {},
     "output_type": "display_data"
    },
    {
     "data": {
      "text/html": [
       "<pre>| 6       | 1h 27m       | 1.06597           | 1.03245               | 0.000762939 |</pre>"
      ],
      "text/plain": [
       "| 6       | 1h 27m       | 1.06597           | 1.03245               | 0.000762939 |"
      ]
     },
     "metadata": {},
     "output_type": "display_data"
    },
    {
     "data": {
      "text/html": [
       "<pre>| 7       | 1h 28m       | 1.05269           | 1.026                 | 0.000762939 |</pre>"
      ],
      "text/plain": [
       "| 7       | 1h 28m       | 1.05269           | 1.026                 | 0.000762939 |"
      ]
     },
     "metadata": {},
     "output_type": "display_data"
    },
    {
     "data": {
      "text/html": [
       "<pre>| 8       | 1h 29m       | 1.04541           | 1.02244               | 0.000762939 |</pre>"
      ],
      "text/plain": [
       "| 8       | 1h 29m       | 1.04541           | 1.02244               | 0.000762939 |"
      ]
     },
     "metadata": {},
     "output_type": "display_data"
    },
    {
     "data": {
      "text/html": [
       "<pre>| 9       | 1h 30m       | 1.03561           | 1.01764               | 0.000762939 |</pre>"
      ],
      "text/plain": [
       "| 9       | 1h 30m       | 1.03561           | 1.01764               | 0.000762939 |"
      ]
     },
     "metadata": {},
     "output_type": "display_data"
    },
    {
     "data": {
      "text/html": [
       "<pre>| 10      | 1h 31m       | 1.03372           | 1.01671               | 0.000762939 |</pre>"
      ],
      "text/plain": [
       "| 10      | 1h 31m       | 1.03372           | 1.01671               | 0.000762939 |"
      ]
     },
     "metadata": {},
     "output_type": "display_data"
    },
    {
     "data": {
      "text/html": [
       "<pre>| 11      | 1h 32m       | 1.02292           | 1.01138               | 0.000762939 |</pre>"
      ],
      "text/plain": [
       "| 11      | 1h 32m       | 1.02292           | 1.01138               | 0.000762939 |"
      ]
     },
     "metadata": {},
     "output_type": "display_data"
    },
    {
     "data": {
      "text/html": [
       "<pre>| 12      | 1h 33m       | 1.0173            | 1.0086                | 0.000762939 |</pre>"
      ],
      "text/plain": [
       "| 12      | 1h 33m       | 1.0173            | 1.0086                | 0.000762939 |"
      ]
     },
     "metadata": {},
     "output_type": "display_data"
    },
    {
     "data": {
      "text/html": [
       "<pre>| 13      | 1h 35m       | 1.01544           | 1.00768               | 0.000762939 |</pre>"
      ],
      "text/plain": [
       "| 13      | 1h 35m       | 1.01544           | 1.00768               | 0.000762939 |"
      ]
     },
     "metadata": {},
     "output_type": "display_data"
    },
    {
     "data": {
      "text/html": [
       "<pre>| 14      | 1h 36m       | 1.0096            | 1.00478               | 0.000762939 |</pre>"
      ],
      "text/plain": [
       "| 14      | 1h 36m       | 1.0096            | 1.00478               | 0.000762939 |"
      ]
     },
     "metadata": {},
     "output_type": "display_data"
    },
    {
     "data": {
      "text/html": [
       "<pre>| 15      | 1h 37m       | 1.00659           | 1.00328               | 0.000762939 |</pre>"
      ],
      "text/plain": [
       "| 15      | 1h 37m       | 1.00659           | 1.00328               | 0.000762939 |"
      ]
     },
     "metadata": {},
     "output_type": "display_data"
    },
    {
     "data": {
      "text/html": [
       "<pre>| 16      | 1h 38m       | 1.00405           | 1.00201               | 0.000762939 |</pre>"
      ],
      "text/plain": [
       "| 16      | 1h 38m       | 1.00405           | 1.00201               | 0.000762939 |"
      ]
     },
     "metadata": {},
     "output_type": "display_data"
    },
    {
     "data": {
      "text/html": [
       "<pre>| 17      | 1h 39m       | 1.00166           | 1.00082               | 0.000762939 |</pre>"
      ],
      "text/plain": [
       "| 17      | 1h 39m       | 1.00166           | 1.00082               | 0.000762939 |"
      ]
     },
     "metadata": {},
     "output_type": "display_data"
    },
    {
     "data": {
      "text/html": [
       "<pre>| 18      | 1h 40m       | 0.999647          | 0.999812              | 0.000762939 |</pre>"
      ],
      "text/plain": [
       "| 18      | 1h 40m       | 0.999647          | 0.999812              | 0.000762939 |"
      ]
     },
     "metadata": {},
     "output_type": "display_data"
    },
    {
     "data": {
      "text/html": [
       "<pre>| 19      | 1h 41m       | 0.997286          | 0.99863               | 0.000762939 |</pre>"
      ],
      "text/plain": [
       "| 19      | 1h 41m       | 0.997286          | 0.99863               | 0.000762939 |"
      ]
     },
     "metadata": {},
     "output_type": "display_data"
    },
    {
     "data": {
      "text/html": [
       "<pre>| 20      | 1h 42m       | 0.995931          | 0.997951              | 0.000762939 |</pre>"
      ],
      "text/plain": [
       "| 20      | 1h 42m       | 0.995931          | 0.997951              | 0.000762939 |"
      ]
     },
     "metadata": {},
     "output_type": "display_data"
    },
    {
     "data": {
      "text/html": [
       "<pre>| 21      | 1h 43m       | 0.99442           | 0.997194              | 0.000762939 |</pre>"
      ],
      "text/plain": [
       "| 21      | 1h 43m       | 0.99442           | 0.997194              | 0.000762939 |"
      ]
     },
     "metadata": {},
     "output_type": "display_data"
    },
    {
     "data": {
      "text/html": [
       "<pre>| 22      | 1h 44m       | 0.993337          | 0.99665               | 0.000762939 |</pre>"
      ],
      "text/plain": [
       "| 22      | 1h 44m       | 0.993337          | 0.99665               | 0.000762939 |"
      ]
     },
     "metadata": {},
     "output_type": "display_data"
    },
    {
     "data": {
      "text/html": [
       "<pre>| 23      | 1h 45m       | 0.994181          | 0.997073              | 0.000762939 |</pre>"
      ],
      "text/plain": [
       "| 23      | 1h 45m       | 0.994181          | 0.997073              | 0.000762939 |"
      ]
     },
     "metadata": {},
     "output_type": "display_data"
    },
    {
     "data": {
      "text/html": [
       "<pre>| 24      | 1h 46m       | 0.9918            | 0.995878              | 0.000762939 |</pre>"
      ],
      "text/plain": [
       "| 24      | 1h 46m       | 0.9918            | 0.995878              | 0.000762939 |"
      ]
     },
     "metadata": {},
     "output_type": "display_data"
    },
    {
     "data": {
      "text/html": [
       "<pre>| 25      | 1h 47m       | 0.990705          | 0.995328              | 0.000762939 |</pre>"
      ],
      "text/plain": [
       "| 25      | 1h 47m       | 0.990705          | 0.995328              | 0.000762939 |"
      ]
     },
     "metadata": {},
     "output_type": "display_data"
    },
    {
     "data": {
      "text/html": [
       "<pre>| 26      | 1h 48m       | 0.992432          | 0.996195              | 0.000762939 |</pre>"
      ],
      "text/plain": [
       "| 26      | 1h 48m       | 0.992432          | 0.996195              | 0.000762939 |"
      ]
     },
     "metadata": {},
     "output_type": "display_data"
    },
    {
     "data": {
      "text/html": [
       "<pre>| 27      | 1h 49m       | 0.989743          | 0.994845              | 0.000762939 |</pre>"
      ],
      "text/plain": [
       "| 27      | 1h 49m       | 0.989743          | 0.994845              | 0.000762939 |"
      ]
     },
     "metadata": {},
     "output_type": "display_data"
    },
    {
     "data": {
      "text/html": [
       "<pre>| 28      | 1h 50m       | 0.99082           | 0.995385              | 0.000762939 |</pre>"
      ],
      "text/plain": [
       "| 28      | 1h 50m       | 0.99082           | 0.995385              | 0.000762939 |"
      ]
     },
     "metadata": {},
     "output_type": "display_data"
    },
    {
     "data": {
      "text/html": [
       "<pre>| 29      | 1h 51m       | 0.991166          | 0.995559              | 0.000762939 |</pre>"
      ],
      "text/plain": [
       "| 29      | 1h 51m       | 0.991166          | 0.995559              | 0.000762939 |"
      ]
     },
     "metadata": {},
     "output_type": "display_data"
    },
    {
     "data": {
      "text/html": [
       "<pre>| 30      | 1h 52m       | 0.989724          | 0.994834              | 0.000762939 |</pre>"
      ],
      "text/plain": [
       "| 30      | 1h 52m       | 0.989724          | 0.994834              | 0.000762939 |"
      ]
     },
     "metadata": {},
     "output_type": "display_data"
    },
    {
     "data": {
      "text/html": [
       "<pre>| 31      | 1h 53m       | 0.992031          | 0.995993              | 0.000762939 |</pre>"
      ],
      "text/plain": [
       "| 31      | 1h 53m       | 0.992031          | 0.995993              | 0.000762939 |"
      ]
     },
     "metadata": {},
     "output_type": "display_data"
    },
    {
     "data": {
      "text/html": [
       "<pre>| 32      | 1h 54m       | 0.991545          | 0.995749              | 0.000762939 |</pre>"
      ],
      "text/plain": [
       "| 32      | 1h 54m       | 0.991545          | 0.995749              | 0.000762939 |"
      ]
     },
     "metadata": {},
     "output_type": "display_data"
    },
    {
     "data": {
      "text/html": [
       "<pre>| 33      | 1h 55m       | 0.992818          | 0.996388              | 0.000762939 |</pre>"
      ],
      "text/plain": [
       "| 33      | 1h 55m       | 0.992818          | 0.996388              | 0.000762939 |"
      ]
     },
     "metadata": {},
     "output_type": "display_data"
    },
    {
     "data": {
      "text/html": [
       "<pre>| 34      | 1h 56m       | 0.989317          | 0.994629              | 0.000762939 |</pre>"
      ],
      "text/plain": [
       "| 34      | 1h 56m       | 0.989317          | 0.994629              | 0.000762939 |"
      ]
     },
     "metadata": {},
     "output_type": "display_data"
    },
    {
     "data": {
      "text/html": [
       "<pre>| 35      | 1h 57m       | 0.992841          | 0.996399              | 0.000762939 |</pre>"
      ],
      "text/plain": [
       "| 35      | 1h 57m       | 0.992841          | 0.996399              | 0.000762939 |"
      ]
     },
     "metadata": {},
     "output_type": "display_data"
    },
    {
     "data": {
      "text/html": [
       "<pre>| 36      | 1h 58m       | 0.990647          | 0.995297              | 0.000762939 |</pre>"
      ],
      "text/plain": [
       "| 36      | 1h 58m       | 0.990647          | 0.995297              | 0.000762939 |"
      ]
     },
     "metadata": {},
     "output_type": "display_data"
    },
    {
     "data": {
      "text/html": [
       "<pre>| 37      | 1h 59m       | 0.993292          | 0.996625              | 0.000762939 |</pre>"
      ],
      "text/plain": [
       "| 37      | 1h 59m       | 0.993292          | 0.996625              | 0.000762939 |"
      ]
     },
     "metadata": {},
     "output_type": "display_data"
    },
    {
     "data": {
      "text/html": [
       "<pre>| 38      | 2h 0m        | 0.989735          | 0.994839              | 0.000762939 |</pre>"
      ],
      "text/plain": [
       "| 38      | 2h 0m        | 0.989735          | 0.994839              | 0.000762939 |"
      ]
     },
     "metadata": {},
     "output_type": "display_data"
    },
    {
     "data": {
      "text/html": [
       "<pre>| 39      | 2h 1m        | 0.989861          | 0.994902              | 0.000762939 |</pre>"
      ],
      "text/plain": [
       "| 39      | 2h 1m        | 0.989861          | 0.994902              | 0.000762939 |"
      ]
     },
     "metadata": {},
     "output_type": "display_data"
    },
    {
     "data": {
      "text/html": [
       "<pre>| 40      | 2h 2m        | 0.988671          | 0.994303              | 0.000762939 |</pre>"
      ],
      "text/plain": [
       "| 40      | 2h 2m        | 0.988671          | 0.994303              | 0.000762939 |"
      ]
     },
     "metadata": {},
     "output_type": "display_data"
    },
    {
     "data": {
      "text/html": [
       "<pre>| 41      | 2h 4m        | 0.988931          | 0.994434              | 0.000762939 |</pre>"
      ],
      "text/plain": [
       "| 41      | 2h 4m        | 0.988931          | 0.994434              | 0.000762939 |"
      ]
     },
     "metadata": {},
     "output_type": "display_data"
    },
    {
     "data": {
      "text/html": [
       "<pre>| 42      | 2h 5m        | 0.987             | 0.993463              | 0.000762939 |</pre>"
      ],
      "text/plain": [
       "| 42      | 2h 5m        | 0.987             | 0.993463              | 0.000762939 |"
      ]
     },
     "metadata": {},
     "output_type": "display_data"
    },
    {
     "data": {
      "text/html": [
       "<pre>| 43      | 2h 6m        | 0.991267          | 0.995608              | 0.000762939 |</pre>"
      ],
      "text/plain": [
       "| 43      | 2h 6m        | 0.991267          | 0.995608              | 0.000762939 |"
      ]
     },
     "metadata": {},
     "output_type": "display_data"
    },
    {
     "data": {
      "text/html": [
       "<pre>| 44      | 2h 7m        | 0.985581          | 0.992748              | 0.000762939 |</pre>"
      ],
      "text/plain": [
       "| 44      | 2h 7m        | 0.985581          | 0.992748              | 0.000762939 |"
      ]
     },
     "metadata": {},
     "output_type": "display_data"
    },
    {
     "data": {
      "text/html": [
       "<pre>| 45      | 2h 8m        | 0.98327           | 0.991583              | 0.000762939 |</pre>"
      ],
      "text/plain": [
       "| 45      | 2h 8m        | 0.98327           | 0.991583              | 0.000762939 |"
      ]
     },
     "metadata": {},
     "output_type": "display_data"
    },
    {
     "data": {
      "text/html": [
       "<pre>| 46      | 2h 9m        | 0.984205          | 0.992054              | 0.000762939 |</pre>"
      ],
      "text/plain": [
       "| 46      | 2h 9m        | 0.984205          | 0.992054              | 0.000762939 |"
      ]
     },
     "metadata": {},
     "output_type": "display_data"
    },
    {
     "data": {
      "text/html": [
       "<pre>| 47      | 2h 10m       | 0.981672          | 0.990777              | 0.000762939 |</pre>"
      ],
      "text/plain": [
       "| 47      | 2h 10m       | 0.981672          | 0.990777              | 0.000762939 |"
      ]
     },
     "metadata": {},
     "output_type": "display_data"
    },
    {
     "data": {
      "text/html": [
       "<pre>| 48      | 2h 11m       | 0.979061          | 0.989458              | 0.000762939 |</pre>"
      ],
      "text/plain": [
       "| 48      | 2h 11m       | 0.979061          | 0.989458              | 0.000762939 |"
      ]
     },
     "metadata": {},
     "output_type": "display_data"
    },
    {
     "data": {
      "text/html": [
       "<pre>| 49      | 2h 12m       | 0.983219          | 0.991557              | 0.000762939 |</pre>"
      ],
      "text/plain": [
       "| 49      | 2h 12m       | 0.983219          | 0.991557              | 0.000762939 |"
      ]
     },
     "metadata": {},
     "output_type": "display_data"
    },
    {
     "data": {
      "text/html": [
       "<pre>| 50      | 2h 13m       | 0.975592          | 0.987703              | 0.000762939 |</pre>"
      ],
      "text/plain": [
       "| 50      | 2h 13m       | 0.975592          | 0.987703              | 0.000762939 |"
      ]
     },
     "metadata": {},
     "output_type": "display_data"
    },
    {
     "data": {
      "text/html": [
       "<pre>| 51      | 2h 14m       | 0.974318          | 0.987058              | 0.000762939 |</pre>"
      ],
      "text/plain": [
       "| 51      | 2h 14m       | 0.974318          | 0.987058              | 0.000762939 |"
      ]
     },
     "metadata": {},
     "output_type": "display_data"
    },
    {
     "data": {
      "text/html": [
       "<pre>| 52      | 2h 15m       | 0.972642          | 0.986209              | 0.000762939 |</pre>"
      ],
      "text/plain": [
       "| 52      | 2h 15m       | 0.972642          | 0.986209              | 0.000762939 |"
      ]
     },
     "metadata": {},
     "output_type": "display_data"
    },
    {
     "data": {
      "text/html": [
       "<pre>| 53      | 2h 16m       | 0.969973          | 0.984854              | 0.000762939 |</pre>"
      ],
      "text/plain": [
       "| 53      | 2h 16m       | 0.969973          | 0.984854              | 0.000762939 |"
      ]
     },
     "metadata": {},
     "output_type": "display_data"
    },
    {
     "data": {
      "text/html": [
       "<pre>| 54      | 2h 17m       | 0.966396          | 0.983037              | 0.000762939 |</pre>"
      ],
      "text/plain": [
       "| 54      | 2h 17m       | 0.966396          | 0.983037              | 0.000762939 |"
      ]
     },
     "metadata": {},
     "output_type": "display_data"
    },
    {
     "data": {
      "text/html": [
       "<pre>| 55      | 2h 18m       | 0.966528          | 0.983103              | 0.000762939 |</pre>"
      ],
      "text/plain": [
       "| 55      | 2h 18m       | 0.966528          | 0.983103              | 0.000762939 |"
      ]
     },
     "metadata": {},
     "output_type": "display_data"
    },
    {
     "data": {
      "text/html": [
       "<pre>| 56      | 2h 19m       | 0.962071          | 0.980834              | 0.000762939 |</pre>"
      ],
      "text/plain": [
       "| 56      | 2h 19m       | 0.962071          | 0.980834              | 0.000762939 |"
      ]
     },
     "metadata": {},
     "output_type": "display_data"
    },
    {
     "data": {
      "text/html": [
       "<pre>| 57      | 2h 20m       | 0.958191          | 0.978854              | 0.000762939 |</pre>"
      ],
      "text/plain": [
       "| 57      | 2h 20m       | 0.958191          | 0.978854              | 0.000762939 |"
      ]
     },
     "metadata": {},
     "output_type": "display_data"
    },
    {
     "data": {
      "text/html": [
       "<pre>| 58      | 2h 21m       | 0.960463          | 0.980014              | 0.000762939 |</pre>"
      ],
      "text/plain": [
       "| 58      | 2h 21m       | 0.960463          | 0.980014              | 0.000762939 |"
      ]
     },
     "metadata": {},
     "output_type": "display_data"
    },
    {
     "data": {
      "text/html": [
       "<pre>| 59      | 2h 22m       | 0.9569            | 0.978194              | 0.000762939 |</pre>"
      ],
      "text/plain": [
       "| 59      | 2h 22m       | 0.9569            | 0.978194              | 0.000762939 |"
      ]
     },
     "metadata": {},
     "output_type": "display_data"
    },
    {
     "data": {
      "text/html": [
       "<pre>| 60      | 2h 23m       | 0.96201           | 0.980802              | 0.000762939 |</pre>"
      ],
      "text/plain": [
       "| 60      | 2h 23m       | 0.96201           | 0.980802              | 0.000762939 |"
      ]
     },
     "metadata": {},
     "output_type": "display_data"
    },
    {
     "data": {
      "text/html": [
       "<pre>| 61      | 2h 24m       | 0.982969          | 0.991429              | 0.000762939 |</pre>"
      ],
      "text/plain": [
       "| 61      | 2h 24m       | 0.982969          | 0.991429              | 0.000762939 |"
      ]
     },
     "metadata": {},
     "output_type": "display_data"
    },
    {
     "data": {
      "text/html": [
       "<pre>| 62      | 2h 25m       | 1.08159           | 1.03998               | 0.000762939 |</pre>"
      ],
      "text/plain": [
       "| 62      | 2h 25m       | 1.08159           | 1.03998               | 0.000762939 |"
      ]
     },
     "metadata": {},
     "output_type": "display_data"
    },
    {
     "data": {
      "text/html": [
       "<pre>| 63      | 2h 26m       | 1.86117           | 1.36423               | 0.000762939 |</pre>"
      ],
      "text/plain": [
       "| 63      | 2h 26m       | 1.86117           | 1.36423               | 0.000762939 |"
      ]
     },
     "metadata": {},
     "output_type": "display_data"
    },
    {
     "data": {
      "text/html": [
       "<pre>| 64      | 2h 27m       | DIVERGED          | DIVERGED              | 0.000762939 |</pre>"
      ],
      "text/plain": [
       "| 64      | 2h 27m       | DIVERGED          | DIVERGED              | 0.000762939 |"
      ]
     },
     "metadata": {},
     "output_type": "display_data"
    },
    {
     "data": {
      "text/html": [
       "<pre>| RESET   | 2h 28m       | 1.17584           | 1.08436               |             |</pre>"
      ],
      "text/plain": [
       "| RESET   | 2h 28m       | 1.17584           | 1.08436               |             |"
      ]
     },
     "metadata": {},
     "output_type": "display_data"
    },
    {
     "data": {
      "text/html": [
       "<pre>| 1       | 2h 29m       | 1.28238           | 1.13242               | 0.00038147  |</pre>"
      ],
      "text/plain": [
       "| 1       | 2h 29m       | 1.28238           | 1.13242               | 0.00038147  |"
      ]
     },
     "metadata": {},
     "output_type": "display_data"
    },
    {
     "data": {
      "text/html": [
       "<pre>| 2       | 2h 30m       | 1.49464           | 1.22255               | 0.00038147  |</pre>"
      ],
      "text/plain": [
       "| 2       | 2h 30m       | 1.49464           | 1.22255               | 0.00038147  |"
      ]
     },
     "metadata": {},
     "output_type": "display_data"
    },
    {
     "data": {
      "text/html": [
       "<pre>| 3       | 2h 31m       | 1.39239           | 1.17999               | 0.00038147  |</pre>"
      ],
      "text/plain": [
       "| 3       | 2h 31m       | 1.39239           | 1.17999               | 0.00038147  |"
      ]
     },
     "metadata": {},
     "output_type": "display_data"
    },
    {
     "data": {
      "text/html": [
       "<pre>| 4       | 2h 32m       | 1.33411           | 1.15503               | 0.00038147  |</pre>"
      ],
      "text/plain": [
       "| 4       | 2h 32m       | 1.33411           | 1.15503               | 0.00038147  |"
      ]
     },
     "metadata": {},
     "output_type": "display_data"
    },
    {
     "data": {
      "text/html": [
       "<pre>| 5       | 2h 33m       | 1.23087           | 1.10944               | 0.00038147  |</pre>"
      ],
      "text/plain": [
       "| 5       | 2h 33m       | 1.23087           | 1.10944               | 0.00038147  |"
      ]
     },
     "metadata": {},
     "output_type": "display_data"
    },
    {
     "data": {
      "text/html": [
       "<pre>| 6       | 2h 34m       | 1.18341           | 1.08784               | 0.00038147  |</pre>"
      ],
      "text/plain": [
       "| 6       | 2h 34m       | 1.18341           | 1.08784               | 0.00038147  |"
      ]
     },
     "metadata": {},
     "output_type": "display_data"
    },
    {
     "data": {
      "text/html": [
       "<pre>| 7       | 2h 35m       | 1.17522           | 1.08407               | 0.00038147  |</pre>"
      ],
      "text/plain": [
       "| 7       | 2h 35m       | 1.17522           | 1.08407               | 0.00038147  |"
      ]
     },
     "metadata": {},
     "output_type": "display_data"
    },
    {
     "data": {
      "text/html": [
       "<pre>| 8       | 2h 36m       | 1.14613           | 1.07057               | 0.00038147  |</pre>"
      ],
      "text/plain": [
       "| 8       | 2h 36m       | 1.14613           | 1.07057               | 0.00038147  |"
      ]
     },
     "metadata": {},
     "output_type": "display_data"
    },
    {
     "data": {
      "text/html": [
       "<pre>| 9       | 2h 37m       | 1.13102           | 1.06349               | 0.00038147  |</pre>"
      ],
      "text/plain": [
       "| 9       | 2h 37m       | 1.13102           | 1.06349               | 0.00038147  |"
      ]
     },
     "metadata": {},
     "output_type": "display_data"
    },
    {
     "data": {
      "text/html": [
       "<pre>| 10      | 2h 38m       | 1.13293           | 1.06439               | 0.00038147  |</pre>"
      ],
      "text/plain": [
       "| 10      | 2h 38m       | 1.13293           | 1.06439               | 0.00038147  |"
      ]
     },
     "metadata": {},
     "output_type": "display_data"
    },
    {
     "data": {
      "text/html": [
       "<pre>| 11      | 2h 39m       | 1.10931           | 1.05324               | 0.00038147  |</pre>"
      ],
      "text/plain": [
       "| 11      | 2h 39m       | 1.10931           | 1.05324               | 0.00038147  |"
      ]
     },
     "metadata": {},
     "output_type": "display_data"
    },
    {
     "data": {
      "text/html": [
       "<pre>| 12      | 2h 40m       | 1.10412           | 1.05077               | 0.00038147  |</pre>"
      ],
      "text/plain": [
       "| 12      | 2h 40m       | 1.10412           | 1.05077               | 0.00038147  |"
      ]
     },
     "metadata": {},
     "output_type": "display_data"
    },
    {
     "data": {
      "text/html": [
       "<pre>| 13      | 2h 41m       | 1.0988            | 1.04823               | 0.00038147  |</pre>"
      ],
      "text/plain": [
       "| 13      | 2h 41m       | 1.0988            | 1.04823               | 0.00038147  |"
      ]
     },
     "metadata": {},
     "output_type": "display_data"
    },
    {
     "data": {
      "text/html": [
       "<pre>| 14      | 2h 42m       | 1.09199           | 1.04498               | 0.00038147  |</pre>"
      ],
      "text/plain": [
       "| 14      | 2h 42m       | 1.09199           | 1.04498               | 0.00038147  |"
      ]
     },
     "metadata": {},
     "output_type": "display_data"
    },
    {
     "data": {
      "text/html": [
       "<pre>| 15      | 2h 43m       | 1.08408           | 1.04118               | 0.00038147  |</pre>"
      ],
      "text/plain": [
       "| 15      | 2h 43m       | 1.08408           | 1.04118               | 0.00038147  |"
      ]
     },
     "metadata": {},
     "output_type": "display_data"
    },
    {
     "data": {
      "text/html": [
       "<pre>| 16      | 2h 44m       | 1.07667           | 1.03762               | 0.00038147  |</pre>"
      ],
      "text/plain": [
       "| 16      | 2h 44m       | 1.07667           | 1.03762               | 0.00038147  |"
      ]
     },
     "metadata": {},
     "output_type": "display_data"
    },
    {
     "data": {
      "text/html": [
       "<pre>| 17      | 2h 45m       | 1.07049           | 1.03464               | 0.00038147  |</pre>"
      ],
      "text/plain": [
       "| 17      | 2h 45m       | 1.07049           | 1.03464               | 0.00038147  |"
      ]
     },
     "metadata": {},
     "output_type": "display_data"
    },
    {
     "data": {
      "text/html": [
       "<pre>| 18      | 2h 46m       | 1.07076           | 1.03477               | 0.00038147  |</pre>"
      ],
      "text/plain": [
       "| 18      | 2h 46m       | 1.07076           | 1.03477               | 0.00038147  |"
      ]
     },
     "metadata": {},
     "output_type": "display_data"
    },
    {
     "data": {
      "text/html": [
       "<pre>| 19      | 2h 47m       | 1.063             | 1.03101               | 0.00038147  |</pre>"
      ],
      "text/plain": [
       "| 19      | 2h 47m       | 1.063             | 1.03101               | 0.00038147  |"
      ]
     },
     "metadata": {},
     "output_type": "display_data"
    },
    {
     "data": {
      "text/html": [
       "<pre>| 20      | 2h 48m       | 1.06224           | 1.03065               | 0.00038147  |</pre>"
      ],
      "text/plain": [
       "| 20      | 2h 48m       | 1.06224           | 1.03065               | 0.00038147  |"
      ]
     },
     "metadata": {},
     "output_type": "display_data"
    },
    {
     "data": {
      "text/html": [
       "<pre>| 21      | 2h 49m       | 1.05403           | 1.02665               | 0.00038147  |</pre>"
      ],
      "text/plain": [
       "| 21      | 2h 49m       | 1.05403           | 1.02665               | 0.00038147  |"
      ]
     },
     "metadata": {},
     "output_type": "display_data"
    },
    {
     "data": {
      "text/html": [
       "<pre>| 22      | 2h 50m       | 1.05362           | 1.02645               | 0.00038147  |</pre>"
      ],
      "text/plain": [
       "| 22      | 2h 50m       | 1.05362           | 1.02645               | 0.00038147  |"
      ]
     },
     "metadata": {},
     "output_type": "display_data"
    },
    {
     "data": {
      "text/html": [
       "<pre>| 23      | 2h 51m       | 1.05026           | 1.02482               | 0.00038147  |</pre>"
      ],
      "text/plain": [
       "| 23      | 2h 51m       | 1.05026           | 1.02482               | 0.00038147  |"
      ]
     },
     "metadata": {},
     "output_type": "display_data"
    },
    {
     "data": {
      "text/html": [
       "<pre>| 24      | 2h 52m       | 1.04722           | 1.02333               | 0.00038147  |</pre>"
      ],
      "text/plain": [
       "| 24      | 2h 52m       | 1.04722           | 1.02333               | 0.00038147  |"
      ]
     },
     "metadata": {},
     "output_type": "display_data"
    },
    {
     "data": {
      "text/html": [
       "<pre>| 25      | 2h 54m       | 1.04125           | 1.02041               | 0.00038147  |</pre>"
      ],
      "text/plain": [
       "| 25      | 2h 54m       | 1.04125           | 1.02041               | 0.00038147  |"
      ]
     },
     "metadata": {},
     "output_type": "display_data"
    },
    {
     "data": {
      "text/html": [
       "<pre>| 26      | 2h 55m       | 1.04117           | 1.02037               | 0.00038147  |</pre>"
      ],
      "text/plain": [
       "| 26      | 2h 55m       | 1.04117           | 1.02037               | 0.00038147  |"
      ]
     },
     "metadata": {},
     "output_type": "display_data"
    },
    {
     "data": {
      "text/html": [
       "<pre>| 27      | 2h 56m       | 1.03604           | 1.01785               | 0.00038147  |</pre>"
      ],
      "text/plain": [
       "| 27      | 2h 56m       | 1.03604           | 1.01785               | 0.00038147  |"
      ]
     },
     "metadata": {},
     "output_type": "display_data"
    },
    {
     "data": {
      "text/html": [
       "<pre>| 28      | 2h 57m       | 1.03319           | 1.01645               | 0.00038147  |</pre>"
      ],
      "text/plain": [
       "| 28      | 2h 57m       | 1.03319           | 1.01645               | 0.00038147  |"
      ]
     },
     "metadata": {},
     "output_type": "display_data"
    },
    {
     "data": {
      "text/html": [
       "<pre>| 29      | 2h 58m       | 1.0312            | 1.01547               | 0.00038147  |</pre>"
      ],
      "text/plain": [
       "| 29      | 2h 58m       | 1.0312            | 1.01547               | 0.00038147  |"
      ]
     },
     "metadata": {},
     "output_type": "display_data"
    },
    {
     "data": {
      "text/html": [
       "<pre>| 30      | 2h 59m       | 1.03169           | 1.01571               | 0.00038147  |</pre>"
      ],
      "text/plain": [
       "| 30      | 2h 59m       | 1.03169           | 1.01571               | 0.00038147  |"
      ]
     },
     "metadata": {},
     "output_type": "display_data"
    },
    {
     "data": {
      "text/html": [
       "<pre>| 31      | 3h 0m        | 1.02729           | 1.01355               | 0.00038147  |</pre>"
      ],
      "text/plain": [
       "| 31      | 3h 0m        | 1.02729           | 1.01355               | 0.00038147  |"
      ]
     },
     "metadata": {},
     "output_type": "display_data"
    },
    {
     "data": {
      "text/html": [
       "<pre>| 32      | 3h 1m        | 1.02402           | 1.01193               | 0.00038147  |</pre>"
      ],
      "text/plain": [
       "| 32      | 3h 1m        | 1.02402           | 1.01193               | 0.00038147  |"
      ]
     },
     "metadata": {},
     "output_type": "display_data"
    },
    {
     "data": {
      "text/html": [
       "<pre>| 33      | 3h 2m        | 1.02153           | 1.0107                | 0.00038147  |</pre>"
      ],
      "text/plain": [
       "| 33      | 3h 2m        | 1.02153           | 1.0107                | 0.00038147  |"
      ]
     },
     "metadata": {},
     "output_type": "display_data"
    },
    {
     "data": {
      "text/html": [
       "<pre>| 34      | 3h 3m        | 1.0215            | 1.01069               | 0.00038147  |</pre>"
      ],
      "text/plain": [
       "| 34      | 3h 3m        | 1.0215            | 1.01069               | 0.00038147  |"
      ]
     },
     "metadata": {},
     "output_type": "display_data"
    },
    {
     "data": {
      "text/html": [
       "<pre>| 35      | 3h 4m        | 1.01789           | 1.0089                | 0.00038147  |</pre>"
      ],
      "text/plain": [
       "| 35      | 3h 4m        | 1.01789           | 1.0089                | 0.00038147  |"
      ]
     },
     "metadata": {},
     "output_type": "display_data"
    },
    {
     "data": {
      "text/html": [
       "<pre>| 36      | 3h 5m        | 1.01635           | 1.00814               | 0.00038147  |</pre>"
      ],
      "text/plain": [
       "| 36      | 3h 5m        | 1.01635           | 1.00814               | 0.00038147  |"
      ]
     },
     "metadata": {},
     "output_type": "display_data"
    },
    {
     "data": {
      "text/html": [
       "<pre>| 37      | 3h 6m        | 1.01551           | 1.00772               | 0.00038147  |</pre>"
      ],
      "text/plain": [
       "| 37      | 3h 6m        | 1.01551           | 1.00772               | 0.00038147  |"
      ]
     },
     "metadata": {},
     "output_type": "display_data"
    },
    {
     "data": {
      "text/html": [
       "<pre>| 38      | 3h 7m        | 1.01305           | 1.00649               | 0.00038147  |</pre>"
      ],
      "text/plain": [
       "| 38      | 3h 7m        | 1.01305           | 1.00649               | 0.00038147  |"
      ]
     },
     "metadata": {},
     "output_type": "display_data"
    },
    {
     "data": {
      "text/html": [
       "<pre>| 39      | 3h 8m        | 1.01149           | 1.00572               | 0.00038147  |</pre>"
      ],
      "text/plain": [
       "| 39      | 3h 8m        | 1.01149           | 1.00572               | 0.00038147  |"
      ]
     },
     "metadata": {},
     "output_type": "display_data"
    },
    {
     "data": {
      "text/html": [
       "<pre>| 40      | 3h 9m        | 1.00981           | 1.00489               | 0.00038147  |</pre>"
      ],
      "text/plain": [
       "| 40      | 3h 9m        | 1.00981           | 1.00489               | 0.00038147  |"
      ]
     },
     "metadata": {},
     "output_type": "display_data"
    },
    {
     "data": {
      "text/html": [
       "<pre>| 41      | 3h 10m       | 1.00865           | 1.00431               | 0.00038147  |</pre>"
      ],
      "text/plain": [
       "| 41      | 3h 10m       | 1.00865           | 1.00431               | 0.00038147  |"
      ]
     },
     "metadata": {},
     "output_type": "display_data"
    },
    {
     "data": {
      "text/html": [
       "<pre>| 42      | 3h 11m       | 1.0077            | 1.00384               | 0.00038147  |</pre>"
      ],
      "text/plain": [
       "| 42      | 3h 11m       | 1.0077            | 1.00384               | 0.00038147  |"
      ]
     },
     "metadata": {},
     "output_type": "display_data"
    },
    {
     "data": {
      "text/html": [
       "<pre>| 43      | 3h 12m       | 1.00626           | 1.00312               | 0.00038147  |</pre>"
      ],
      "text/plain": [
       "| 43      | 3h 12m       | 1.00626           | 1.00312               | 0.00038147  |"
      ]
     },
     "metadata": {},
     "output_type": "display_data"
    },
    {
     "data": {
      "text/html": [
       "<pre>| 44      | 3h 13m       | 1.00541           | 1.00269               | 0.00038147  |</pre>"
      ],
      "text/plain": [
       "| 44      | 3h 13m       | 1.00541           | 1.00269               | 0.00038147  |"
      ]
     },
     "metadata": {},
     "output_type": "display_data"
    },
    {
     "data": {
      "text/html": [
       "<pre>| 45      | 3h 14m       | 1.00432           | 1.00215               | 0.00038147  |</pre>"
      ],
      "text/plain": [
       "| 45      | 3h 14m       | 1.00432           | 1.00215               | 0.00038147  |"
      ]
     },
     "metadata": {},
     "output_type": "display_data"
    },
    {
     "data": {
      "text/html": [
       "<pre>| 46      | 3h 15m       | 1.00313           | 1.00156               | 0.00038147  |</pre>"
      ],
      "text/plain": [
       "| 46      | 3h 15m       | 1.00313           | 1.00156               | 0.00038147  |"
      ]
     },
     "metadata": {},
     "output_type": "display_data"
    },
    {
     "data": {
      "text/html": [
       "<pre>| 47      | 3h 16m       | 1.00253           | 1.00125               | 0.00038147  |</pre>"
      ],
      "text/plain": [
       "| 47      | 3h 16m       | 1.00253           | 1.00125               | 0.00038147  |"
      ]
     },
     "metadata": {},
     "output_type": "display_data"
    },
    {
     "data": {
      "text/html": [
       "<pre>| 48      | 3h 17m       | 1.00158           | 1.00078               | 0.00038147  |</pre>"
      ],
      "text/plain": [
       "| 48      | 3h 17m       | 1.00158           | 1.00078               | 0.00038147  |"
      ]
     },
     "metadata": {},
     "output_type": "display_data"
    },
    {
     "data": {
      "text/html": [
       "<pre>| 49      | 3h 19m       | 1.0009            | 1.00044               | 0.00038147  |</pre>"
      ],
      "text/plain": [
       "| 49      | 3h 19m       | 1.0009            | 1.00044               | 0.00038147  |"
      ]
     },
     "metadata": {},
     "output_type": "display_data"
    },
    {
     "data": {
      "text/html": [
       "<pre>| 50      | 3h 20m       | 1.00032           | 1.00015               | 0.00038147  |</pre>"
      ],
      "text/plain": [
       "| 50      | 3h 20m       | 1.00032           | 1.00015               | 0.00038147  |"
      ]
     },
     "metadata": {},
     "output_type": "display_data"
    },
    {
     "data": {
      "text/html": [
       "<pre>| 51      | 3h 21m       | 0.999723          | 0.999851              | 0.00038147  |</pre>"
      ],
      "text/plain": [
       "| 51      | 3h 21m       | 0.999723          | 0.999851              | 0.00038147  |"
      ]
     },
     "metadata": {},
     "output_type": "display_data"
    },
    {
     "data": {
      "text/html": [
       "<pre>| 52      | 3h 22m       | 0.999298          | 0.999639              | 0.00038147  |</pre>"
      ],
      "text/plain": [
       "| 52      | 3h 22m       | 0.999298          | 0.999639              | 0.00038147  |"
      ]
     },
     "metadata": {},
     "output_type": "display_data"
    },
    {
     "data": {
      "text/html": [
       "<pre>| 53      | 3h 23m       | 0.998466          | 0.999223              | 0.00038147  |</pre>"
      ],
      "text/plain": [
       "| 53      | 3h 23m       | 0.998466          | 0.999223              | 0.00038147  |"
      ]
     },
     "metadata": {},
     "output_type": "display_data"
    },
    {
     "data": {
      "text/html": [
       "<pre>| 54      | 3h 24m       | 0.998886          | 0.999433              | 0.00038147  |</pre>"
      ],
      "text/plain": [
       "| 54      | 3h 24m       | 0.998886          | 0.999433              | 0.00038147  |"
      ]
     },
     "metadata": {},
     "output_type": "display_data"
    },
    {
     "data": {
      "text/html": [
       "<pre>| 55      | 3h 25m       | 0.997675          | 0.998826              | 0.00038147  |</pre>"
      ],
      "text/plain": [
       "| 55      | 3h 25m       | 0.997675          | 0.998826              | 0.00038147  |"
      ]
     },
     "metadata": {},
     "output_type": "display_data"
    },
    {
     "data": {
      "text/html": [
       "<pre>| 56      | 3h 26m       | 0.997593          | 0.998785              | 0.00038147  |</pre>"
      ],
      "text/plain": [
       "| 56      | 3h 26m       | 0.997593          | 0.998785              | 0.00038147  |"
      ]
     },
     "metadata": {},
     "output_type": "display_data"
    },
    {
     "data": {
      "text/html": [
       "<pre>| 57      | 3h 27m       | 0.997215          | 0.998596              | 0.00038147  |</pre>"
      ],
      "text/plain": [
       "| 57      | 3h 27m       | 0.997215          | 0.998596              | 0.00038147  |"
      ]
     },
     "metadata": {},
     "output_type": "display_data"
    },
    {
     "data": {
      "text/html": [
       "<pre>| 58      | 3h 28m       | 0.997624          | 0.998801              | 0.00038147  |</pre>"
      ],
      "text/plain": [
       "| 58      | 3h 28m       | 0.997624          | 0.998801              | 0.00038147  |"
      ]
     },
     "metadata": {},
     "output_type": "display_data"
    },
    {
     "data": {
      "text/html": [
       "<pre>| 59      | 3h 29m       | 0.997019          | 0.998498              | 0.00038147  |</pre>"
      ],
      "text/plain": [
       "| 59      | 3h 29m       | 0.997019          | 0.998498              | 0.00038147  |"
      ]
     },
     "metadata": {},
     "output_type": "display_data"
    },
    {
     "data": {
      "text/html": [
       "<pre>| 60      | 3h 30m       | 0.996305          | 0.99814               | 0.00038147  |</pre>"
      ],
      "text/plain": [
       "| 60      | 3h 30m       | 0.996305          | 0.99814               | 0.00038147  |"
      ]
     },
     "metadata": {},
     "output_type": "display_data"
    },
    {
     "data": {
      "text/html": [
       "<pre>| 61      | 3h 31m       | 0.996063          | 0.998019              | 0.00038147  |</pre>"
      ],
      "text/plain": [
       "| 61      | 3h 31m       | 0.996063          | 0.998019              | 0.00038147  |"
      ]
     },
     "metadata": {},
     "output_type": "display_data"
    },
    {
     "data": {
      "text/html": [
       "<pre>| 62      | 3h 32m       | 0.997768          | 0.998873              | 0.00038147  |</pre>"
      ],
      "text/plain": [
       "| 62      | 3h 32m       | 0.997768          | 0.998873              | 0.00038147  |"
      ]
     },
     "metadata": {},
     "output_type": "display_data"
    },
    {
     "data": {
      "text/html": [
       "<pre>| 63      | 3h 33m       | 0.995972          | 0.997973              | 0.00038147  |</pre>"
      ],
      "text/plain": [
       "| 63      | 3h 33m       | 0.995972          | 0.997973              | 0.00038147  |"
      ]
     },
     "metadata": {},
     "output_type": "display_data"
    },
    {
     "data": {
      "text/html": [
       "<pre>| 64      | 3h 34m       | 0.995357          | 0.997665              | 0.00038147  |</pre>"
      ],
      "text/plain": [
       "| 64      | 3h 34m       | 0.995357          | 0.997665              | 0.00038147  |"
      ]
     },
     "metadata": {},
     "output_type": "display_data"
    },
    {
     "data": {
      "text/html": [
       "<pre>| 65      | 3h 35m       | 0.996436          | 0.998205              | 0.00038147  |</pre>"
      ],
      "text/plain": [
       "| 65      | 3h 35m       | 0.996436          | 0.998205              | 0.00038147  |"
      ]
     },
     "metadata": {},
     "output_type": "display_data"
    },
    {
     "data": {
      "text/html": [
       "<pre>| 66      | 3h 36m       | 0.99598           | 0.997977              | 0.00038147  |</pre>"
      ],
      "text/plain": [
       "| 66      | 3h 36m       | 0.99598           | 0.997977              | 0.00038147  |"
      ]
     },
     "metadata": {},
     "output_type": "display_data"
    },
    {
     "data": {
      "text/html": [
       "<pre>| 67      | 3h 37m       | 0.995487          | 0.99773               | 0.00038147  |</pre>"
      ],
      "text/plain": [
       "| 67      | 3h 37m       | 0.995487          | 0.99773               | 0.00038147  |"
      ]
     },
     "metadata": {},
     "output_type": "display_data"
    },
    {
     "data": {
      "text/html": [
       "<pre>| 68      | 3h 38m       | 0.995656          | 0.997814              | 0.00038147  |</pre>"
      ],
      "text/plain": [
       "| 68      | 3h 38m       | 0.995656          | 0.997814              | 0.00038147  |"
      ]
     },
     "metadata": {},
     "output_type": "display_data"
    },
    {
     "data": {
      "text/html": [
       "<pre>| 69      | 3h 39m       | 0.996018          | 0.997996              | 0.00038147  |</pre>"
      ],
      "text/plain": [
       "| 69      | 3h 39m       | 0.996018          | 0.997996              | 0.00038147  |"
      ]
     },
     "metadata": {},
     "output_type": "display_data"
    },
    {
     "data": {
      "text/html": [
       "<pre>| 70      | 3h 40m       | 0.995954          | 0.997963              | 0.00038147  |</pre>"
      ],
      "text/plain": [
       "| 70      | 3h 40m       | 0.995954          | 0.997963              | 0.00038147  |"
      ]
     },
     "metadata": {},
     "output_type": "display_data"
    },
    {
     "data": {
      "text/html": [
       "<pre>| 71      | 3h 41m       | 0.996662          | 0.998318              | 0.00038147  |</pre>"
      ],
      "text/plain": [
       "| 71      | 3h 41m       | 0.996662          | 0.998318              | 0.00038147  |"
      ]
     },
     "metadata": {},
     "output_type": "display_data"
    },
    {
     "data": {
      "text/html": [
       "<pre>| 72      | 3h 42m       | 0.995576          | 0.997774              | 0.00038147  |</pre>"
      ],
      "text/plain": [
       "| 72      | 3h 42m       | 0.995576          | 0.997774              | 0.00038147  |"
      ]
     },
     "metadata": {},
     "output_type": "display_data"
    },
    {
     "data": {
      "text/html": [
       "<pre>| 73      | 3h 44m       | 0.995242          | 0.997607              | 0.00038147  |</pre>"
      ],
      "text/plain": [
       "| 73      | 3h 44m       | 0.995242          | 0.997607              | 0.00038147  |"
      ]
     },
     "metadata": {},
     "output_type": "display_data"
    },
    {
     "data": {
      "text/html": [
       "<pre>| 74      | 3h 45m       | 0.995854          | 0.997913              | 0.00038147  |</pre>"
      ],
      "text/plain": [
       "| 74      | 3h 45m       | 0.995854          | 0.997913              | 0.00038147  |"
      ]
     },
     "metadata": {},
     "output_type": "display_data"
    },
    {
     "data": {
      "text/html": [
       "<pre>| 75      | 3h 46m       | 0.994479          | 0.997224              | 0.00038147  |</pre>"
      ],
      "text/plain": [
       "| 75      | 3h 46m       | 0.994479          | 0.997224              | 0.00038147  |"
      ]
     },
     "metadata": {},
     "output_type": "display_data"
    },
    {
     "data": {
      "text/html": [
       "<pre>| 76      | 3h 47m       | 0.994995          | 0.997483              | 0.00038147  |</pre>"
      ],
      "text/plain": [
       "| 76      | 3h 47m       | 0.994995          | 0.997483              | 0.00038147  |"
      ]
     },
     "metadata": {},
     "output_type": "display_data"
    },
    {
     "data": {
      "text/html": [
       "<pre>| 77      | 3h 48m       | 0.995886          | 0.997929              | 0.00038147  |</pre>"
      ],
      "text/plain": [
       "| 77      | 3h 48m       | 0.995886          | 0.997929              | 0.00038147  |"
      ]
     },
     "metadata": {},
     "output_type": "display_data"
    },
    {
     "data": {
      "text/html": [
       "<pre>| 78      | 3h 49m       | 0.995814          | 0.997893              | 0.00038147  |</pre>"
      ],
      "text/plain": [
       "| 78      | 3h 49m       | 0.995814          | 0.997893              | 0.00038147  |"
      ]
     },
     "metadata": {},
     "output_type": "display_data"
    },
    {
     "data": {
      "text/html": [
       "<pre>| 79      | 3h 50m       | 0.995166          | 0.997568              | 0.00038147  |</pre>"
      ],
      "text/plain": [
       "| 79      | 3h 50m       | 0.995166          | 0.997568              | 0.00038147  |"
      ]
     },
     "metadata": {},
     "output_type": "display_data"
    },
    {
     "data": {
      "text/html": [
       "<pre>| 80      | 3h 51m       | 0.997125          | 0.99855               | 0.00038147  |</pre>"
      ],
      "text/plain": [
       "| 80      | 3h 51m       | 0.997125          | 0.99855               | 0.00038147  |"
      ]
     },
     "metadata": {},
     "output_type": "display_data"
    },
    {
     "data": {
      "text/html": [
       "<pre>| 81      | 3h 52m       | 0.995449          | 0.99771               | 0.00038147  |</pre>"
      ],
      "text/plain": [
       "| 81      | 3h 52m       | 0.995449          | 0.99771               | 0.00038147  |"
      ]
     },
     "metadata": {},
     "output_type": "display_data"
    },
    {
     "data": {
      "text/html": [
       "<pre>| 82      | 3h 53m       | 0.994679          | 0.997324              | 0.00038147  |</pre>"
      ],
      "text/plain": [
       "| 82      | 3h 53m       | 0.994679          | 0.997324              | 0.00038147  |"
      ]
     },
     "metadata": {},
     "output_type": "display_data"
    },
    {
     "data": {
      "text/html": [
       "<pre>| 83      | 3h 54m       | 0.994461          | 0.997214              | 0.00038147  |</pre>"
      ],
      "text/plain": [
       "| 83      | 3h 54m       | 0.994461          | 0.997214              | 0.00038147  |"
      ]
     },
     "metadata": {},
     "output_type": "display_data"
    },
    {
     "data": {
      "text/html": [
       "<pre>| 84      | 3h 55m       | 0.996768          | 0.99837               | 0.00038147  |</pre>"
      ],
      "text/plain": [
       "| 84      | 3h 55m       | 0.996768          | 0.99837               | 0.00038147  |"
      ]
     },
     "metadata": {},
     "output_type": "display_data"
    },
    {
     "data": {
      "text/html": [
       "<pre>| 85      | 3h 56m       | 0.996375          | 0.998174              | 0.00038147  |</pre>"
      ],
      "text/plain": [
       "| 85      | 3h 56m       | 0.996375          | 0.998174              | 0.00038147  |"
      ]
     },
     "metadata": {},
     "output_type": "display_data"
    },
    {
     "data": {
      "text/html": [
       "<pre>| 86      | 3h 57m       | 0.996451          | 0.998212              | 0.00038147  |</pre>"
      ],
      "text/plain": [
       "| 86      | 3h 57m       | 0.996451          | 0.998212              | 0.00038147  |"
      ]
     },
     "metadata": {},
     "output_type": "display_data"
    },
    {
     "data": {
      "text/html": [
       "<pre>| 87      | 3h 58m       | 0.992898          | 0.99643               | 0.00038147  |</pre>"
      ],
      "text/plain": [
       "| 87      | 3h 58m       | 0.992898          | 0.99643               | 0.00038147  |"
      ]
     },
     "metadata": {},
     "output_type": "display_data"
    },
    {
     "data": {
      "text/html": [
       "<pre>| 88      | 3h 59m       | 0.998629          | 0.999302              | 0.00038147  |</pre>"
      ],
      "text/plain": [
       "| 88      | 3h 59m       | 0.998629          | 0.999302              | 0.00038147  |"
      ]
     },
     "metadata": {},
     "output_type": "display_data"
    },
    {
     "data": {
      "text/html": [
       "<pre>| 89      | 4h 0m        | 0.994823          | 0.997396              | 0.00038147  |</pre>"
      ],
      "text/plain": [
       "| 89      | 4h 0m        | 0.994823          | 0.997396              | 0.00038147  |"
      ]
     },
     "metadata": {},
     "output_type": "display_data"
    },
    {
     "data": {
      "text/html": [
       "<pre>| 90      | 4h 1m        | 0.994599          | 0.997283              | 0.00038147  |</pre>"
      ],
      "text/plain": [
       "| 90      | 4h 1m        | 0.994599          | 0.997283              | 0.00038147  |"
      ]
     },
     "metadata": {},
     "output_type": "display_data"
    },
    {
     "data": {
      "text/html": [
       "<pre>| 91      | 4h 2m        | 0.994999          | 0.997484              | 0.00038147  |</pre>"
      ],
      "text/plain": [
       "| 91      | 4h 2m        | 0.994999          | 0.997484              | 0.00038147  |"
      ]
     },
     "metadata": {},
     "output_type": "display_data"
    },
    {
     "data": {
      "text/html": [
       "<pre>| 92      | 4h 3m        | 0.995626          | 0.997798              | 0.00038147  |</pre>"
      ],
      "text/plain": [
       "| 92      | 4h 3m        | 0.995626          | 0.997798              | 0.00038147  |"
      ]
     },
     "metadata": {},
     "output_type": "display_data"
    },
    {
     "data": {
      "text/html": [
       "<pre>| 93      | 4h 4m        | 0.994477          | 0.997222              | 0.00038147  |</pre>"
      ],
      "text/plain": [
       "| 93      | 4h 4m        | 0.994477          | 0.997222              | 0.00038147  |"
      ]
     },
     "metadata": {},
     "output_type": "display_data"
    },
    {
     "data": {
      "text/html": [
       "<pre>| 94      | 4h 5m        | 0.994941          | 0.997454              | 0.00038147  |</pre>"
      ],
      "text/plain": [
       "| 94      | 4h 5m        | 0.994941          | 0.997454              | 0.00038147  |"
      ]
     },
     "metadata": {},
     "output_type": "display_data"
    },
    {
     "data": {
      "text/html": [
       "<pre>| 95      | 4h 6m        | 0.995591          | 0.99778               | 0.00038147  |</pre>"
      ],
      "text/plain": [
       "| 95      | 4h 6m        | 0.995591          | 0.99778               | 0.00038147  |"
      ]
     },
     "metadata": {},
     "output_type": "display_data"
    },
    {
     "data": {
      "text/html": [
       "<pre>| 96      | 4h 7m        | 0.996028          | 0.997999              | 0.00038147  |</pre>"
      ],
      "text/plain": [
       "| 96      | 4h 7m        | 0.996028          | 0.997999              | 0.00038147  |"
      ]
     },
     "metadata": {},
     "output_type": "display_data"
    },
    {
     "data": {
      "text/html": [
       "<pre>| 97      | 4h 8m        | 0.995391          | 0.99768               | 0.00038147  |</pre>"
      ],
      "text/plain": [
       "| 97      | 4h 8m        | 0.995391          | 0.99768               | 0.00038147  |"
      ]
     },
     "metadata": {},
     "output_type": "display_data"
    },
    {
     "data": {
      "text/html": [
       "<pre>| 98      | 4h 9m        | 0.994639          | 0.997303              | 0.00038147  |</pre>"
      ],
      "text/plain": [
       "| 98      | 4h 9m        | 0.994639          | 0.997303              | 0.00038147  |"
      ]
     },
     "metadata": {},
     "output_type": "display_data"
    },
    {
     "data": {
      "text/html": [
       "<pre>| 99      | 4h 10m       | 0.99433           | 0.997147              | 0.00038147  |</pre>"
      ],
      "text/plain": [
       "| 99      | 4h 10m       | 0.99433           | 0.997147              | 0.00038147  |"
      ]
     },
     "metadata": {},
     "output_type": "display_data"
    },
    {
     "data": {
      "text/html": [
       "<pre>| 100     | 4h 11m       | 0.997191          | 0.998581              | 0.00038147  |</pre>"
      ],
      "text/plain": [
       "| 100     | 4h 11m       | 0.997191          | 0.998581              | 0.00038147  |"
      ]
     },
     "metadata": {},
     "output_type": "display_data"
    },
    {
     "data": {
      "text/html": [
       "<pre>| 101     | 4h 13m       | 0.995649          | 0.997809              | 0.00038147  |</pre>"
      ],
      "text/plain": [
       "| 101     | 4h 13m       | 0.995649          | 0.997809              | 0.00038147  |"
      ]
     },
     "metadata": {},
     "output_type": "display_data"
    },
    {
     "data": {
      "text/html": [
       "<pre>| 102     | 4h 14m       | 0.992984          | 0.996472              | 0.00038147  |</pre>"
      ],
      "text/plain": [
       "| 102     | 4h 14m       | 0.992984          | 0.996472              | 0.00038147  |"
      ]
     },
     "metadata": {},
     "output_type": "display_data"
    },
    {
     "data": {
      "text/html": [
       "<pre>| 103     | 4h 15m       | 0.995227          | 0.997597              | 0.00038147  |</pre>"
      ],
      "text/plain": [
       "| 103     | 4h 15m       | 0.995227          | 0.997597              | 0.00038147  |"
      ]
     },
     "metadata": {},
     "output_type": "display_data"
    },
    {
     "data": {
      "text/html": [
       "<pre>| 104     | 4h 16m       | 0.994464          | 0.997215              | 0.00038147  |</pre>"
      ],
      "text/plain": [
       "| 104     | 4h 16m       | 0.994464          | 0.997215              | 0.00038147  |"
      ]
     },
     "metadata": {},
     "output_type": "display_data"
    },
    {
     "data": {
      "text/html": [
       "<pre>| 105     | 4h 17m       | 0.993539          | 0.996751              | 0.00038147  |</pre>"
      ],
      "text/plain": [
       "| 105     | 4h 17m       | 0.993539          | 0.996751              | 0.00038147  |"
      ]
     },
     "metadata": {},
     "output_type": "display_data"
    },
    {
     "data": {
      "text/html": [
       "<pre>| 106     | 4h 18m       | 0.993309          | 0.996635              | 0.00038147  |</pre>"
      ],
      "text/plain": [
       "| 106     | 4h 18m       | 0.993309          | 0.996635              | 0.00038147  |"
      ]
     },
     "metadata": {},
     "output_type": "display_data"
    },
    {
     "data": {
      "text/html": [
       "<pre>| 107     | 4h 19m       | 0.992314          | 0.996136              | 0.00038147  |</pre>"
      ],
      "text/plain": [
       "| 107     | 4h 19m       | 0.992314          | 0.996136              | 0.00038147  |"
      ]
     },
     "metadata": {},
     "output_type": "display_data"
    },
    {
     "data": {
      "text/html": [
       "<pre>| 108     | 4h 20m       | 0.993319          | 0.99664               | 0.00038147  |</pre>"
      ],
      "text/plain": [
       "| 108     | 4h 20m       | 0.993319          | 0.99664               | 0.00038147  |"
      ]
     },
     "metadata": {},
     "output_type": "display_data"
    },
    {
     "data": {
      "text/html": [
       "<pre>| 109     | 4h 21m       | 0.993401          | 0.996681              | 0.00038147  |</pre>"
      ],
      "text/plain": [
       "| 109     | 4h 21m       | 0.993401          | 0.996681              | 0.00038147  |"
      ]
     },
     "metadata": {},
     "output_type": "display_data"
    },
    {
     "data": {
      "text/html": [
       "<pre>| 110     | 4h 22m       | 0.990918          | 0.995434              | 0.00038147  |</pre>"
      ],
      "text/plain": [
       "| 110     | 4h 22m       | 0.990918          | 0.995434              | 0.00038147  |"
      ]
     },
     "metadata": {},
     "output_type": "display_data"
    },
    {
     "data": {
      "text/html": [
       "<pre>| 111     | 4h 23m       | 0.991018          | 0.995485              | 0.00038147  |</pre>"
      ],
      "text/plain": [
       "| 111     | 4h 23m       | 0.991018          | 0.995485              | 0.00038147  |"
      ]
     },
     "metadata": {},
     "output_type": "display_data"
    },
    {
     "data": {
      "text/html": [
       "<pre>| 112     | 4h 24m       | 0.990639          | 0.995294              | 0.00038147  |</pre>"
      ],
      "text/plain": [
       "| 112     | 4h 24m       | 0.990639          | 0.995294              | 0.00038147  |"
      ]
     },
     "metadata": {},
     "output_type": "display_data"
    },
    {
     "data": {
      "text/html": [
       "<pre>| 113     | 4h 25m       | 0.992596          | 0.996277              | 0.00038147  |</pre>"
      ],
      "text/plain": [
       "| 113     | 4h 25m       | 0.992596          | 0.996277              | 0.00038147  |"
      ]
     },
     "metadata": {},
     "output_type": "display_data"
    },
    {
     "data": {
      "text/html": [
       "<pre>| 114     | 4h 26m       | 0.988615          | 0.994277              | 0.00038147  |</pre>"
      ],
      "text/plain": [
       "| 114     | 4h 26m       | 0.988615          | 0.994277              | 0.00038147  |"
      ]
     },
     "metadata": {},
     "output_type": "display_data"
    },
    {
     "data": {
      "text/html": [
       "<pre>| 115     | 4h 27m       | 0.989305          | 0.994623              | 0.00038147  |</pre>"
      ],
      "text/plain": [
       "| 115     | 4h 27m       | 0.989305          | 0.994623              | 0.00038147  |"
      ]
     },
     "metadata": {},
     "output_type": "display_data"
    },
    {
     "data": {
      "text/html": [
       "<pre>| 116     | 4h 28m       | 0.986202          | 0.993062              | 0.00038147  |</pre>"
      ],
      "text/plain": [
       "| 116     | 4h 28m       | 0.986202          | 0.993062              | 0.00038147  |"
      ]
     },
     "metadata": {},
     "output_type": "display_data"
    },
    {
     "data": {
      "text/html": [
       "<pre>| 117     | 4h 29m       | 0.987662          | 0.993797              | 0.00038147  |</pre>"
      ],
      "text/plain": [
       "| 117     | 4h 29m       | 0.987662          | 0.993797              | 0.00038147  |"
      ]
     },
     "metadata": {},
     "output_type": "display_data"
    },
    {
     "data": {
      "text/html": [
       "<pre>| 118     | 4h 30m       | 0.988364          | 0.99415               | 0.00038147  |</pre>"
      ],
      "text/plain": [
       "| 118     | 4h 30m       | 0.988364          | 0.99415               | 0.00038147  |"
      ]
     },
     "metadata": {},
     "output_type": "display_data"
    },
    {
     "data": {
      "text/html": [
       "<pre>| 119     | 4h 32m       | 0.984874          | 0.992393              | 0.00038147  |</pre>"
      ],
      "text/plain": [
       "| 119     | 4h 32m       | 0.984874          | 0.992393              | 0.00038147  |"
      ]
     },
     "metadata": {},
     "output_type": "display_data"
    },
    {
     "data": {
      "text/html": [
       "<pre>| 120     | 4h 33m       | 0.985353          | 0.992634              | 0.00038147  |</pre>"
      ],
      "text/plain": [
       "| 120     | 4h 33m       | 0.985353          | 0.992634              | 0.00038147  |"
      ]
     },
     "metadata": {},
     "output_type": "display_data"
    },
    {
     "data": {
      "text/html": [
       "<pre>| 121     | 4h 34m       | 0.984821          | 0.992366              | 0.00038147  |</pre>"
      ],
      "text/plain": [
       "| 121     | 4h 34m       | 0.984821          | 0.992366              | 0.00038147  |"
      ]
     },
     "metadata": {},
     "output_type": "display_data"
    },
    {
     "data": {
      "text/html": [
       "<pre>| 122     | 4h 35m       | 0.983579          | 0.99174               | 0.00038147  |</pre>"
      ],
      "text/plain": [
       "| 122     | 4h 35m       | 0.983579          | 0.99174               | 0.00038147  |"
      ]
     },
     "metadata": {},
     "output_type": "display_data"
    },
    {
     "data": {
      "text/html": [
       "<pre>| 123     | 4h 36m       | 0.982042          | 0.990965              | 0.00038147  |</pre>"
      ],
      "text/plain": [
       "| 123     | 4h 36m       | 0.982042          | 0.990965              | 0.00038147  |"
      ]
     },
     "metadata": {},
     "output_type": "display_data"
    },
    {
     "data": {
      "text/html": [
       "<pre>| 124     | 4h 37m       | 0.984533          | 0.992221              | 0.00038147  |</pre>"
      ],
      "text/plain": [
       "| 124     | 4h 37m       | 0.984533          | 0.992221              | 0.00038147  |"
      ]
     },
     "metadata": {},
     "output_type": "display_data"
    },
    {
     "data": {
      "text/html": [
       "<pre>| 125     | 4h 39m       | 0.983807          | 0.991855              | 0.00038147  |</pre>"
      ],
      "text/plain": [
       "| 125     | 4h 39m       | 0.983807          | 0.991855              | 0.00038147  |"
      ]
     },
     "metadata": {},
     "output_type": "display_data"
    },
    {
     "data": {
      "text/html": [
       "<pre>| 126     | 4h 40m       | 0.979218          | 0.989539              | 0.00038147  |</pre>"
      ],
      "text/plain": [
       "| 126     | 4h 40m       | 0.979218          | 0.989539              | 0.00038147  |"
      ]
     },
     "metadata": {},
     "output_type": "display_data"
    },
    {
     "data": {
      "text/html": [
       "<pre>| 127     | 4h 41m       | 0.980113          | 0.989991              | 0.00038147  |</pre>"
      ],
      "text/plain": [
       "| 127     | 4h 41m       | 0.980113          | 0.989991              | 0.00038147  |"
      ]
     },
     "metadata": {},
     "output_type": "display_data"
    },
    {
     "data": {
      "text/html": [
       "<pre>| 128     | 4h 42m       | 0.978191          | 0.98902               | 0.00038147  |</pre>"
      ],
      "text/plain": [
       "| 128     | 4h 42m       | 0.978191          | 0.98902               | 0.00038147  |"
      ]
     },
     "metadata": {},
     "output_type": "display_data"
    },
    {
     "data": {
      "text/html": [
       "<pre>| 129     | 4h 43m       | 0.979509          | 0.989686              | 0.00038147  |</pre>"
      ],
      "text/plain": [
       "| 129     | 4h 43m       | 0.979509          | 0.989686              | 0.00038147  |"
      ]
     },
     "metadata": {},
     "output_type": "display_data"
    },
    {
     "data": {
      "text/html": [
       "<pre>| 130     | 4h 45m       | 0.979296          | 0.989578              | 0.00038147  |</pre>"
      ],
      "text/plain": [
       "| 130     | 4h 45m       | 0.979296          | 0.989578              | 0.00038147  |"
      ]
     },
     "metadata": {},
     "output_type": "display_data"
    },
    {
     "data": {
      "text/html": [
       "<pre>| 131     | 4h 46m       | 0.977472          | 0.988656              | 0.00038147  |</pre>"
      ],
      "text/plain": [
       "| 131     | 4h 46m       | 0.977472          | 0.988656              | 0.00038147  |"
      ]
     },
     "metadata": {},
     "output_type": "display_data"
    },
    {
     "data": {
      "text/html": [
       "<pre>| 132     | 4h 47m       | 0.976223          | 0.988024              | 0.00038147  |</pre>"
      ],
      "text/plain": [
       "| 132     | 4h 47m       | 0.976223          | 0.988024              | 0.00038147  |"
      ]
     },
     "metadata": {},
     "output_type": "display_data"
    },
    {
     "data": {
      "text/html": [
       "<pre>| 133     | 4h 49m       | 0.979379          | 0.989619              | 0.00038147  |</pre>"
      ],
      "text/plain": [
       "| 133     | 4h 49m       | 0.979379          | 0.989619              | 0.00038147  |"
      ]
     },
     "metadata": {},
     "output_type": "display_data"
    },
    {
     "data": {
      "text/html": [
       "<pre>| 134     | 4h 50m       | 0.975256          | 0.987534              | 0.00038147  |</pre>"
      ],
      "text/plain": [
       "| 134     | 4h 50m       | 0.975256          | 0.987534              | 0.00038147  |"
      ]
     },
     "metadata": {},
     "output_type": "display_data"
    },
    {
     "data": {
      "text/html": [
       "<pre>| 135     | 4h 51m       | 0.976064          | 0.987943              | 0.00038147  |</pre>"
      ],
      "text/plain": [
       "| 135     | 4h 51m       | 0.976064          | 0.987943              | 0.00038147  |"
      ]
     },
     "metadata": {},
     "output_type": "display_data"
    },
    {
     "data": {
      "text/html": [
       "<pre>| 136     | 4h 53m       | 0.973873          | 0.986833              | 0.00038147  |</pre>"
      ],
      "text/plain": [
       "| 136     | 4h 53m       | 0.973873          | 0.986833              | 0.00038147  |"
      ]
     },
     "metadata": {},
     "output_type": "display_data"
    },
    {
     "data": {
      "text/html": [
       "<pre>| 137     | 4h 54m       | 0.972929          | 0.986355              | 0.00038147  |</pre>"
      ],
      "text/plain": [
       "| 137     | 4h 54m       | 0.972929          | 0.986355              | 0.00038147  |"
      ]
     },
     "metadata": {},
     "output_type": "display_data"
    },
    {
     "data": {
      "text/html": [
       "<pre>| 138     | 4h 55m       | 0.975203          | 0.987507              | 0.00038147  |</pre>"
      ],
      "text/plain": [
       "| 138     | 4h 55m       | 0.975203          | 0.987507              | 0.00038147  |"
      ]
     },
     "metadata": {},
     "output_type": "display_data"
    },
    {
     "data": {
      "text/html": [
       "<pre>| 139     | 4h 57m       | 0.972245          | 0.986008              | 0.00038147  |</pre>"
      ],
      "text/plain": [
       "| 139     | 4h 57m       | 0.972245          | 0.986008              | 0.00038147  |"
      ]
     },
     "metadata": {},
     "output_type": "display_data"
    },
    {
     "data": {
      "text/html": [
       "<pre>| 140     | 4h 58m       | 0.972524          | 0.986149              | 0.00038147  |</pre>"
      ],
      "text/plain": [
       "| 140     | 4h 58m       | 0.972524          | 0.986149              | 0.00038147  |"
      ]
     },
     "metadata": {},
     "output_type": "display_data"
    },
    {
     "data": {
      "text/html": [
       "<pre>| 141     | 4h 59m       | 0.973586          | 0.986688              | 0.00038147  |</pre>"
      ],
      "text/plain": [
       "| 141     | 4h 59m       | 0.973586          | 0.986688              | 0.00038147  |"
      ]
     },
     "metadata": {},
     "output_type": "display_data"
    },
    {
     "data": {
      "text/html": [
       "<pre>| 142     | 5h 1m        | 0.97354           | 0.986664              | 0.00038147  |</pre>"
      ],
      "text/plain": [
       "| 142     | 5h 1m        | 0.97354           | 0.986664              | 0.00038147  |"
      ]
     },
     "metadata": {},
     "output_type": "display_data"
    },
    {
     "data": {
      "text/html": [
       "<pre>| 143     | 5h 2m        | 0.977107          | 0.98847               | 0.00038147  |</pre>"
      ],
      "text/plain": [
       "| 143     | 5h 2m        | 0.977107          | 0.98847               | 0.00038147  |"
      ]
     },
     "metadata": {},
     "output_type": "display_data"
    },
    {
     "data": {
      "text/html": [
       "<pre>| 144     | 5h 3m        | 0.982591          | 0.99124               | 0.00038147  |</pre>"
      ],
      "text/plain": [
       "| 144     | 5h 3m        | 0.982591          | 0.99124               | 0.00038147  |"
      ]
     },
     "metadata": {},
     "output_type": "display_data"
    },
    {
     "data": {
      "text/html": [
       "<pre>| 145     | 5h 5m        | 0.998648          | 0.999306              | 0.00038147  |</pre>"
      ],
      "text/plain": [
       "| 145     | 5h 5m        | 0.998648          | 0.999306              | 0.00038147  |"
      ]
     },
     "metadata": {},
     "output_type": "display_data"
    },
    {
     "data": {
      "text/html": [
       "<pre>| 146     | 5h 6m        | 1.01279           | 1.00636               | 0.00038147  |</pre>"
      ],
      "text/plain": [
       "| 146     | 5h 6m        | 1.01279           | 1.00636               | 0.00038147  |"
      ]
     },
     "metadata": {},
     "output_type": "display_data"
    },
    {
     "data": {
      "text/html": [
       "<pre>| 147     | 5h 8m        | 1.09851           | 1.04808               | 0.00038147  |</pre>"
      ],
      "text/plain": [
       "| 147     | 5h 8m        | 1.09851           | 1.04808               | 0.00038147  |"
      ]
     },
     "metadata": {},
     "output_type": "display_data"
    },
    {
     "data": {
      "text/html": [
       "<pre>| 148     | 5h 9m        | 1.17014           | 1.08171               | 0.00038147  |</pre>"
      ],
      "text/plain": [
       "| 148     | 5h 9m        | 1.17014           | 1.08171               | 0.00038147  |"
      ]
     },
     "metadata": {},
     "output_type": "display_data"
    },
    {
     "data": {
      "text/html": [
       "<pre>| 149     | 5h 10m       | 1.80306           | 1.34277               | 0.00038147  |</pre>"
      ],
      "text/plain": [
       "| 149     | 5h 10m       | 1.80306           | 1.34277               | 0.00038147  |"
      ]
     },
     "metadata": {},
     "output_type": "display_data"
    },
    {
     "data": {
      "text/html": [
       "<pre>| 150     | 5h 12m       | 2.04161           | 1.42884               | 0.00038147  |</pre>"
      ],
      "text/plain": [
       "| 150     | 5h 12m       | 2.04161           | 1.42884               | 0.00038147  |"
      ]
     },
     "metadata": {},
     "output_type": "display_data"
    },
    {
     "data": {
      "text/html": [
       "<pre>| 151     | 5h 14m       | DIVERGED          | DIVERGED              | 0.00038147  |</pre>"
      ],
      "text/plain": [
       "| 151     | 5h 14m       | DIVERGED          | DIVERGED              | 0.00038147  |"
      ]
     },
     "metadata": {},
     "output_type": "display_data"
    },
    {
     "data": {
      "text/html": [
       "<pre>| RESET   | 5h 14m       | 1.17573           | 1.08431               |             |</pre>"
      ],
      "text/plain": [
       "| RESET   | 5h 14m       | 1.17573           | 1.08431               |             |"
      ]
     },
     "metadata": {},
     "output_type": "display_data"
    },
    {
     "data": {
      "text/html": [
       "<pre>| 1       | 5h 15m       | 1.09086           | 1.04444               | 0.000190735 |</pre>"
      ],
      "text/plain": [
       "| 1       | 5h 15m       | 1.09086           | 1.04444               | 0.000190735 |"
      ]
     },
     "metadata": {},
     "output_type": "display_data"
    },
    {
     "data": {
      "text/html": [
       "<pre>| 2       | 5h 17m       | 1.09124           | 1.04462               | 0.000190735 |</pre>"
      ],
      "text/plain": [
       "| 2       | 5h 17m       | 1.09124           | 1.04462               | 0.000190735 |"
      ]
     },
     "metadata": {},
     "output_type": "display_data"
    },
    {
     "data": {
      "text/html": [
       "<pre>| 3       | 5h 18m       | 1.18537           | 1.08875               | 0.000190735 |</pre>"
      ],
      "text/plain": [
       "| 3       | 5h 18m       | 1.18537           | 1.08875               | 0.000190735 |"
      ]
     },
     "metadata": {},
     "output_type": "display_data"
    },
    {
     "data": {
      "text/html": [
       "<pre>| 4       | 5h 19m       | 1.22798           | 1.10814               | 0.000190735 |</pre>"
      ],
      "text/plain": [
       "| 4       | 5h 19m       | 1.22798           | 1.10814               | 0.000190735 |"
      ]
     },
     "metadata": {},
     "output_type": "display_data"
    },
    {
     "data": {
      "text/html": [
       "<pre>| 5       | 5h 21m       | 1.25969           | 1.12236               | 0.000190735 |</pre>"
      ],
      "text/plain": [
       "| 5       | 5h 21m       | 1.25969           | 1.12236               | 0.000190735 |"
      ]
     },
     "metadata": {},
     "output_type": "display_data"
    },
    {
     "data": {
      "text/html": [
       "<pre>| 6       | 5h 22m       | 1.4259            | 1.19411               | 0.000190735 |</pre>"
      ],
      "text/plain": [
       "| 6       | 5h 22m       | 1.4259            | 1.19411               | 0.000190735 |"
      ]
     },
     "metadata": {},
     "output_type": "display_data"
    },
    {
     "data": {
      "text/html": [
       "<pre>| 7       | 5h 24m       | 1.43949           | 1.19979               | 0.000190735 |</pre>"
      ],
      "text/plain": [
       "| 7       | 5h 24m       | 1.43949           | 1.19979               | 0.000190735 |"
      ]
     },
     "metadata": {},
     "output_type": "display_data"
    },
    {
     "data": {
      "text/html": [
       "<pre>| 8       | 5h 25m       | DIVERGED          | DIVERGED              | 0.000190735 |</pre>"
      ],
      "text/plain": [
       "| 8       | 5h 25m       | DIVERGED          | DIVERGED              | 0.000190735 |"
      ]
     },
     "metadata": {},
     "output_type": "display_data"
    },
    {
     "data": {
      "text/html": [
       "<pre>| RESET   | 5h 26m       | 1.1759            | 1.08439               |             |</pre>"
      ],
      "text/plain": [
       "| RESET   | 5h 26m       | 1.1759            | 1.08439               |             |"
      ]
     },
     "metadata": {},
     "output_type": "display_data"
    },
    {
     "data": {
      "text/html": [
       "<pre>| 1       | 5h 27m       | 1.12275           | 1.0596                | 9.53674e-05 |</pre>"
      ],
      "text/plain": [
       "| 1       | 5h 27m       | 1.12275           | 1.0596                | 9.53674e-05 |"
      ]
     },
     "metadata": {},
     "output_type": "display_data"
    },
    {
     "data": {
      "text/html": [
       "<pre>| 2       | 5h 28m       | 1.08299           | 1.04067               | 9.53674e-05 |</pre>"
      ],
      "text/plain": [
       "| 2       | 5h 28m       | 1.08299           | 1.04067               | 9.53674e-05 |"
      ]
     },
     "metadata": {},
     "output_type": "display_data"
    },
    {
     "data": {
      "text/html": [
       "<pre>| 3       | 5h 30m       | 1.07286           | 1.03579               | 9.53674e-05 |</pre>"
      ],
      "text/plain": [
       "| 3       | 5h 30m       | 1.07286           | 1.03579               | 9.53674e-05 |"
      ]
     },
     "metadata": {},
     "output_type": "display_data"
    },
    {
     "data": {
      "text/html": [
       "<pre>| 4       | 5h 31m       | 1.07428           | 1.03647               | 9.53674e-05 |</pre>"
      ],
      "text/plain": [
       "| 4       | 5h 31m       | 1.07428           | 1.03647               | 9.53674e-05 |"
      ]
     },
     "metadata": {},
     "output_type": "display_data"
    },
    {
     "data": {
      "text/html": [
       "<pre>| 5       | 5h 33m       | 1.09246           | 1.04521               | 9.53674e-05 |</pre>"
      ],
      "text/plain": [
       "| 5       | 5h 33m       | 1.09246           | 1.04521               | 9.53674e-05 |"
      ]
     },
     "metadata": {},
     "output_type": "display_data"
    },
    {
     "data": {
      "text/html": [
       "<pre>| 6       | 5h 34m       | 1.09448           | 1.04617               | 9.53674e-05 |</pre>"
      ],
      "text/plain": [
       "| 6       | 5h 34m       | 1.09448           | 1.04617               | 9.53674e-05 |"
      ]
     },
     "metadata": {},
     "output_type": "display_data"
    },
    {
     "data": {
      "text/html": [
       "<pre>| 7       | 5h 35m       | 1.12346           | 1.05994               | 9.53674e-05 |</pre>"
      ],
      "text/plain": [
       "| 7       | 5h 35m       | 1.12346           | 1.05994               | 9.53674e-05 |"
      ]
     },
     "metadata": {},
     "output_type": "display_data"
    },
    {
     "data": {
      "text/html": [
       "<pre>| 8       | 5h 37m       | 1.15873           | 1.07644               | 9.53674e-05 |</pre>"
      ],
      "text/plain": [
       "| 8       | 5h 37m       | 1.15873           | 1.07644               | 9.53674e-05 |"
      ]
     },
     "metadata": {},
     "output_type": "display_data"
    },
    {
     "data": {
      "text/html": [
       "<pre>| 9       | 5h 38m       | 1.17864           | 1.08565               | 9.53674e-05 |</pre>"
      ],
      "text/plain": [
       "| 9       | 5h 38m       | 1.17864           | 1.08565               | 9.53674e-05 |"
      ]
     },
     "metadata": {},
     "output_type": "display_data"
    },
    {
     "data": {
      "text/html": [
       "<pre>| 10      | 5h 40m       | 1.19554           | 1.09341               | 9.53674e-05 |</pre>"
      ],
      "text/plain": [
       "| 10      | 5h 40m       | 1.19554           | 1.09341               | 9.53674e-05 |"
      ]
     },
     "metadata": {},
     "output_type": "display_data"
    },
    {
     "data": {
      "text/html": [
       "<pre>| 11      | 5h 41m       | 1.20936           | 1.09971               | 9.53674e-05 |</pre>"
      ],
      "text/plain": [
       "| 11      | 5h 41m       | 1.20936           | 1.09971               | 9.53674e-05 |"
      ]
     },
     "metadata": {},
     "output_type": "display_data"
    },
    {
     "data": {
      "text/html": [
       "<pre>| 12      | 5h 43m       | 1.21838           | 1.1038                | 9.53674e-05 |</pre>"
      ],
      "text/plain": [
       "| 12      | 5h 43m       | 1.21838           | 1.1038                | 9.53674e-05 |"
      ]
     },
     "metadata": {},
     "output_type": "display_data"
    },
    {
     "data": {
      "text/html": [
       "<pre>| 13      | 5h 44m       | 1.2609            | 1.1229                | 9.53674e-05 |</pre>"
      ],
      "text/plain": [
       "| 13      | 5h 44m       | 1.2609            | 1.1229                | 9.53674e-05 |"
      ]
     },
     "metadata": {},
     "output_type": "display_data"
    },
    {
     "data": {
      "text/html": [
       "<pre>| 14      | 5h 46m       | DIVERGED          | DIVERGED              | 9.53674e-05 |</pre>"
      ],
      "text/plain": [
       "| 14      | 5h 46m       | DIVERGED          | DIVERGED              | 9.53674e-05 |"
      ]
     },
     "metadata": {},
     "output_type": "display_data"
    },
    {
     "data": {
      "text/html": [
       "<pre>| RESET   | 5h 46m       | 1.17572           | 1.08431               |             |</pre>"
      ],
      "text/plain": [
       "| RESET   | 5h 46m       | 1.17572           | 1.08431               |             |"
      ]
     },
     "metadata": {},
     "output_type": "display_data"
    },
    {
     "data": {
      "text/html": [
       "<pre>| 1       | 5h 47m       | 1.15405           | 1.07427               | 4.76837e-05 |</pre>"
      ],
      "text/plain": [
       "| 1       | 5h 47m       | 1.15405           | 1.07427               | 4.76837e-05 |"
      ]
     },
     "metadata": {},
     "output_type": "display_data"
    },
    {
     "data": {
      "text/html": [
       "<pre>| 2       | 5h 49m       | 1.12726           | 1.06172               | 4.76837e-05 |</pre>"
      ],
      "text/plain": [
       "| 2       | 5h 49m       | 1.12726           | 1.06172               | 4.76837e-05 |"
      ]
     },
     "metadata": {},
     "output_type": "display_data"
    },
    {
     "data": {
      "text/html": [
       "<pre>| 3       | 5h 50m       | 1.1097            | 1.05342               | 4.76837e-05 |</pre>"
      ],
      "text/plain": [
       "| 3       | 5h 50m       | 1.1097            | 1.05342               | 4.76837e-05 |"
      ]
     },
     "metadata": {},
     "output_type": "display_data"
    },
    {
     "data": {
      "text/html": [
       "<pre>| 4       | 5h 51m       | 1.09744           | 1.04759               | 4.76837e-05 |</pre>"
      ],
      "text/plain": [
       "| 4       | 5h 51m       | 1.09744           | 1.04759               | 4.76837e-05 |"
      ]
     },
     "metadata": {},
     "output_type": "display_data"
    },
    {
     "data": {
      "text/html": [
       "<pre>| 5       | 5h 53m       | 1.08833           | 1.04323               | 4.76837e-05 |</pre>"
      ],
      "text/plain": [
       "| 5       | 5h 53m       | 1.08833           | 1.04323               | 4.76837e-05 |"
      ]
     },
     "metadata": {},
     "output_type": "display_data"
    },
    {
     "data": {
      "text/html": [
       "<pre>| 6       | 5h 54m       | 1.08134           | 1.03987               | 4.76837e-05 |</pre>"
      ],
      "text/plain": [
       "| 6       | 5h 54m       | 1.08134           | 1.03987               | 4.76837e-05 |"
      ]
     },
     "metadata": {},
     "output_type": "display_data"
    },
    {
     "data": {
      "text/html": [
       "<pre>| 7       | 5h 56m       | 1.07622           | 1.03741               | 4.76837e-05 |</pre>"
      ],
      "text/plain": [
       "| 7       | 5h 56m       | 1.07622           | 1.03741               | 4.76837e-05 |"
      ]
     },
     "metadata": {},
     "output_type": "display_data"
    },
    {
     "data": {
      "text/html": [
       "<pre>| 8       | 5h 57m       | 1.07253           | 1.03563               | 4.76837e-05 |</pre>"
      ],
      "text/plain": [
       "| 8       | 5h 57m       | 1.07253           | 1.03563               | 4.76837e-05 |"
      ]
     },
     "metadata": {},
     "output_type": "display_data"
    },
    {
     "data": {
      "text/html": [
       "<pre>| 9       | 5h 59m       | 1.07089           | 1.03484               | 4.76837e-05 |</pre>"
      ],
      "text/plain": [
       "| 9       | 5h 59m       | 1.07089           | 1.03484               | 4.76837e-05 |"
      ]
     },
     "metadata": {},
     "output_type": "display_data"
    },
    {
     "data": {
      "text/html": [
       "<pre>| 10      | 6h 0m        | 1.06894           | 1.03389               | 4.76837e-05 |</pre>"
      ],
      "text/plain": [
       "| 10      | 6h 0m        | 1.06894           | 1.03389               | 4.76837e-05 |"
      ]
     },
     "metadata": {},
     "output_type": "display_data"
    },
    {
     "data": {
      "text/html": [
       "<pre>| 11      | 6h 1m        | 1.07061           | 1.0347                | 4.76837e-05 |</pre>"
      ],
      "text/plain": [
       "| 11      | 6h 1m        | 1.07061           | 1.0347                | 4.76837e-05 |"
      ]
     },
     "metadata": {},
     "output_type": "display_data"
    },
    {
     "data": {
      "text/html": [
       "<pre>| 12      | 6h 3m        | 1.0721            | 1.03542               | 4.76837e-05 |</pre>"
      ],
      "text/plain": [
       "| 12      | 6h 3m        | 1.0721            | 1.03542               | 4.76837e-05 |"
      ]
     },
     "metadata": {},
     "output_type": "display_data"
    },
    {
     "data": {
      "text/html": [
       "<pre>| 13      | 6h 4m        | 1.07627           | 1.03743               | 4.76837e-05 |</pre>"
      ],
      "text/plain": [
       "| 13      | 6h 4m        | 1.07627           | 1.03743               | 4.76837e-05 |"
      ]
     },
     "metadata": {},
     "output_type": "display_data"
    },
    {
     "data": {
      "text/html": [
       "<pre>| 14      | 6h 6m        | 1.07844           | 1.03848               | 4.76837e-05 |</pre>"
      ],
      "text/plain": [
       "| 14      | 6h 6m        | 1.07844           | 1.03848               | 4.76837e-05 |"
      ]
     },
     "metadata": {},
     "output_type": "display_data"
    },
    {
     "data": {
      "text/html": [
       "<pre>| 15      | 6h 7m        | 1.07974           | 1.03911               | 4.76837e-05 |</pre>"
      ],
      "text/plain": [
       "| 15      | 6h 7m        | 1.07974           | 1.03911               | 4.76837e-05 |"
      ]
     },
     "metadata": {},
     "output_type": "display_data"
    },
    {
     "data": {
      "text/html": [
       "<pre>| 16      | 6h 9m        | 1.08526           | 1.04176               | 4.76837e-05 |</pre>"
      ],
      "text/plain": [
       "| 16      | 6h 9m        | 1.08526           | 1.04176               | 4.76837e-05 |"
      ]
     },
     "metadata": {},
     "output_type": "display_data"
    },
    {
     "data": {
      "text/html": [
       "<pre>| 17      | 6h 10m       | 1.09078           | 1.04441               | 4.76837e-05 |</pre>"
      ],
      "text/plain": [
       "| 17      | 6h 10m       | 1.09078           | 1.04441               | 4.76837e-05 |"
      ]
     },
     "metadata": {},
     "output_type": "display_data"
    },
    {
     "name": "stderr",
     "output_type": "stream",
     "text": [
      "[ERROR] graphlab.toolkits._main: Toolkit error: Cancelled by user.\n"
     ]
    },
    {
     "ename": "ToolkitError",
     "evalue": "Cancelled by user.",
     "output_type": "error",
     "traceback": [
      "\u001b[1;31m---------------------------------------------------------------------------\u001b[0m",
      "\u001b[1;31mToolkitError\u001b[0m                              Traceback (most recent call last)",
      "\u001b[1;32m<ipython-input-3-ec666f8fca68>\u001b[0m in \u001b[0;36m<module>\u001b[1;34m()\u001b[0m\n\u001b[1;32m----> 1\u001b[1;33m \u001b[0mmodel\u001b[0m \u001b[1;33m=\u001b[0m \u001b[0mgl\u001b[0m\u001b[1;33m.\u001b[0m\u001b[0mrecommender\u001b[0m\u001b[1;33m.\u001b[0m\u001b[0mfactorization_recommender\u001b[0m\u001b[1;33m.\u001b[0m\u001b[0mcreate\u001b[0m\u001b[1;33m(\u001b[0m\u001b[0mactions_tr\u001b[0m\u001b[1;33m,\u001b[0m\u001b[0muser_id\u001b[0m\u001b[1;33m=\u001b[0m\u001b[1;34m'CustomerID'\u001b[0m\u001b[1;33m,\u001b[0m\u001b[0mitem_id\u001b[0m\u001b[1;33m=\u001b[0m\u001b[1;34m'MovieID'\u001b[0m\u001b[1;33m,\u001b[0m\u001b[0mtarget\u001b[0m\u001b[1;33m=\u001b[0m\u001b[1;34m'Score'\u001b[0m\u001b[1;33m,\u001b[0m\u001b[0mnum_factors\u001b[0m\u001b[1;33m=\u001b[0m\u001b[1;36m200\u001b[0m\u001b[1;33m,\u001b[0m\u001b[0mmax_iterations\u001b[0m\u001b[1;33m=\u001b[0m\u001b[1;36m1000\u001b[0m\u001b[1;33m,\u001b[0m\u001b[0mverbose\u001b[0m\u001b[1;33m=\u001b[0m\u001b[1;36m1\u001b[0m\u001b[1;33m)\u001b[0m\u001b[1;33m\u001b[0m\u001b[0m\n\u001b[0m",
      "\u001b[1;32m/home/sanjay/anaconda2/envs/gl-env/lib/python2.7/site-packages/graphlab/toolkits/recommender/factorization_recommender.pyc\u001b[0m in \u001b[0;36mcreate\u001b[1;34m(observation_data, user_id, item_id, target, user_data, item_data, num_factors, regularization, linear_regularization, side_data_factorization, nmf, binary_target, max_iterations, sgd_step_size, random_seed, solver, verbose, **kwargs)\u001b[0m\n\u001b[0;32m    230\u001b[0m         \u001b[0mopts\u001b[0m\u001b[1;33m.\u001b[0m\u001b[0mupdate\u001b[0m\u001b[1;33m(\u001b[0m\u001b[0mkwargs\u001b[0m\u001b[1;33m)\u001b[0m\u001b[1;33m\u001b[0m\u001b[0m\n\u001b[0;32m    231\u001b[0m \u001b[1;33m\u001b[0m\u001b[0m\n\u001b[1;32m--> 232\u001b[1;33m     \u001b[0mresponse\u001b[0m \u001b[1;33m=\u001b[0m \u001b[0m_graphlab\u001b[0m\u001b[1;33m.\u001b[0m\u001b[0mtoolkits\u001b[0m\u001b[1;33m.\u001b[0m\u001b[0m_main\u001b[0m\u001b[1;33m.\u001b[0m\u001b[0mrun\u001b[0m\u001b[1;33m(\u001b[0m\u001b[1;34m'recsys_train'\u001b[0m\u001b[1;33m,\u001b[0m \u001b[0mopts\u001b[0m\u001b[1;33m,\u001b[0m \u001b[0mverbose\u001b[0m\u001b[1;33m)\u001b[0m\u001b[1;33m\u001b[0m\u001b[0m\n\u001b[0m\u001b[0;32m    233\u001b[0m \u001b[1;33m\u001b[0m\u001b[0m\n\u001b[0;32m    234\u001b[0m     \u001b[1;32mreturn\u001b[0m \u001b[0mFactorizationRecommender\u001b[0m\u001b[1;33m(\u001b[0m\u001b[0mresponse\u001b[0m\u001b[1;33m[\u001b[0m\u001b[1;34m'model'\u001b[0m\u001b[1;33m]\u001b[0m\u001b[1;33m)\u001b[0m\u001b[1;33m\u001b[0m\u001b[0m\n",
      "\u001b[1;32m/home/sanjay/anaconda2/envs/gl-env/lib/python2.7/site-packages/graphlab/toolkits/_main.pyc\u001b[0m in \u001b[0;36mrun\u001b[1;34m(toolkit_name, options, verbose, show_progress)\u001b[0m\n\u001b[0;32m     87\u001b[0m         \u001b[0m_get_metric_tracker\u001b[0m\u001b[1;33m(\u001b[0m\u001b[1;33m)\u001b[0m\u001b[1;33m.\u001b[0m\u001b[0mtrack\u001b[0m\u001b[1;33m(\u001b[0m\u001b[0mmetric_name\u001b[0m\u001b[1;33m,\u001b[0m \u001b[0mvalue\u001b[0m\u001b[1;33m=\u001b[0m\u001b[1;36m1\u001b[0m\u001b[1;33m,\u001b[0m \u001b[0mproperties\u001b[0m\u001b[1;33m=\u001b[0m\u001b[0mtrack_props\u001b[0m\u001b[1;33m,\u001b[0m \u001b[0msend_sys_info\u001b[0m\u001b[1;33m=\u001b[0m\u001b[0mFalse\u001b[0m\u001b[1;33m)\u001b[0m\u001b[1;33m\u001b[0m\u001b[0m\n\u001b[0;32m     88\u001b[0m \u001b[1;33m\u001b[0m\u001b[0m\n\u001b[1;32m---> 89\u001b[1;33m         \u001b[1;32mraise\u001b[0m \u001b[0mToolkitError\u001b[0m\u001b[1;33m(\u001b[0m\u001b[0mstr\u001b[0m\u001b[1;33m(\u001b[0m\u001b[0mmessage\u001b[0m\u001b[1;33m)\u001b[0m\u001b[1;33m)\u001b[0m\u001b[1;33m\u001b[0m\u001b[0m\n\u001b[0m",
      "\u001b[1;31mToolkitError\u001b[0m: Cancelled by user."
     ]
    }
   ],
   "source": [
    "model = gl.recommender.factorization_recommender.create\\\n",
    "(actions_tr,user_id='CustomerID',item_id='MovieID',target='Score',\\\n",
    "num_factors=200,max_iterations=1000,verbose=1)"
   ]
  },
  {
   "cell_type": "code",
   "execution_count": null,
   "metadata": {
    "collapsed": false
   },
   "outputs": [],
   "source": [
    "rmse = model.evaluate_rmse(actions_ts,target='Score')\n",
    "rmse"
   ]
  }
 ],
 "metadata": {
  "kernelspec": {
   "display_name": "Python 2",
   "language": "python",
   "name": "python2"
  },
  "language_info": {
   "codemirror_mode": {
    "name": "ipython",
    "version": 2
   },
   "file_extension": ".py",
   "mimetype": "text/x-python",
   "name": "python",
   "nbconvert_exporter": "python",
   "pygments_lexer": "ipython2",
   "version": "2.7.13"
  }
 },
 "nbformat": 4,
 "nbformat_minor": 0
}
