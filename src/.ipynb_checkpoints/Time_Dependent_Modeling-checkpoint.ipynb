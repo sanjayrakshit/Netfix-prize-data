{
 "cells": [
  {
   "cell_type": "code",
   "execution_count": 1,
   "metadata": {
    "collapsed": false
   },
   "outputs": [
    {
     "data": {
      "text/plain": [
       "((16837634, 5), (7216130, 5))"
      ]
     },
     "execution_count": 1,
     "metadata": {},
     "output_type": "execute_result"
    }
   ],
   "source": [
    "import pandas as pd\n",
    "tr_df = pd.read_csv('../data/train-data.csv')\n",
    "ts_df = pd.read_csv('../data/test-data.csv')\n",
    "mvinf = pd.read_csv('../data/Movie-info.csv')\n",
    "cinf = pd.read_csv('../data/Customer-info.csv')\n",
    "tr_df.shape, ts_df.shape"
   ]
  },
  {
   "cell_type": "code",
   "execution_count": 2,
   "metadata": {
    "collapsed": false
   },
   "outputs": [],
   "source": [
    "# Simple linear regression\n",
    "\n",
    "# Join not working on python2. Thus using merge\n",
    "train = (tr_df.merge(cinf,on='CustomerID'))\\\n",
    ".join(mvinf.set_index('MovieID'),on='MovieID')\n",
    "tr_Y = train.Score\n",
    "\n",
    "test = (ts_df.merge(cinf,on='CustomerID'))\\\n",
    ".join(mvinf.set_index('MovieID'),on='MovieID')\n",
    "ts_Y = test.Score"
   ]
  },
  {
   "cell_type": "code",
   "execution_count": 3,
   "metadata": {
    "collapsed": true
   },
   "outputs": [],
   "source": [
    "# Dropping few unnecessary columns\n",
    "train = train.drop(axis=1, labels=['Unnamed: 0_x','Unnamed: 0_y','Unnamed: 0','Score'])\n",
    "test = test.drop(axis=1, labels=['Unnamed: 0_x','Unnamed: 0_y','Unnamed: 0','Score'])"
   ]
  },
  {
   "cell_type": "code",
   "execution_count": 4,
   "metadata": {
    "collapsed": true
   },
   "outputs": [],
   "source": [
    "del tr_df, ts_df, mvinf, cinf"
   ]
  },
  {
   "cell_type": "code",
   "execution_count": 5,
   "metadata": {
    "collapsed": false
   },
   "outputs": [],
   "source": [
    "# We will use sklearn ridge regression since its almost similar to linear regression\n",
    "from sklearn.linear_model import Ridge\n",
    "from sklearn.metrics import mean_squared_error\n",
    "from sklearn.model_selection import GridSearchCV"
   ]
  },
  {
   "cell_type": "code",
   "execution_count": 6,
   "metadata": {
    "collapsed": false
   },
   "outputs": [],
   "source": [
    "reg = Ridge()"
   ]
  },
  {
   "cell_type": "code",
   "execution_count": 7,
   "metadata": {
    "collapsed": false
   },
   "outputs": [],
   "source": [
    "reg.fit(train,tr_Y)\n",
    "hX = reg.predict(test)\n",
    "del reg"
   ]
  },
  {
   "cell_type": "code",
   "execution_count": 8,
   "metadata": {
    "collapsed": false
   },
   "outputs": [
    {
     "data": {
      "text/plain": [
       "0.9285322209034238"
      ]
     },
     "execution_count": 8,
     "metadata": {},
     "output_type": "execute_result"
    }
   ],
   "source": [
    "mse = mean_squared_error(ts_Y,hX)\n",
    "mse**0.5"
   ]
  }
 ],
 "metadata": {
  "kernelspec": {
   "display_name": "Python 2",
   "language": "python",
   "name": "python2"
  },
  "language_info": {
   "codemirror_mode": {
    "name": "ipython",
    "version": 2
   },
   "file_extension": ".py",
   "mimetype": "text/x-python",
   "name": "python",
   "nbconvert_exporter": "python",
   "pygments_lexer": "ipython2",
   "version": "2.7.13"
  }
 },
 "nbformat": 4,
 "nbformat_minor": 2
}
