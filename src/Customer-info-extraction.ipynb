{
 "cells": [
  {
   "cell_type": "code",
   "execution_count": 1,
   "metadata": {
    "collapsed": true
   },
   "outputs": [],
   "source": [
    "# In this ipython notebook we are going to extract info about the Movies"
   ]
  },
  {
   "cell_type": "code",
   "execution_count": 2,
   "metadata": {
    "collapsed": false
   },
   "outputs": [
    {
     "data": {
      "text/plain": [
       "(24053764, 5)"
      ]
     },
     "execution_count": 2,
     "metadata": {},
     "output_type": "execute_result"
    }
   ],
   "source": [
    "# Loading the data\n",
    "\n",
    "import pandas as pd\n",
    "df = pd.read_csv('../data/Wholedata-clean.csv')\n",
    "df.shape"
   ]
  },
  {
   "cell_type": "code",
   "execution_count": 3,
   "metadata": {
    "collapsed": true
   },
   "outputs": [],
   "source": [
    "df = df.sort_values(by='CustomerID')"
   ]
  },
  {
   "cell_type": "code",
   "execution_count": 4,
   "metadata": {
    "collapsed": true
   },
   "outputs": [],
   "source": [
    "# Storing the CustomerIDs in a list\n",
    "import scipy as sp\n",
    "CID = sp.array(df.CustomerID)\n",
    "Score = sp.array(df.Score)"
   ]
  },
  {
   "cell_type": "code",
   "execution_count": 5,
   "metadata": {
    "collapsed": false,
    "scrolled": true
   },
   "outputs": [],
   "source": [
    "# Calcuating the charecteristics of each Customer\n",
    "\n",
    "count = []; mu = []; sig = []; var = []\n",
    "s = []\n",
    "flag = CID[0]; c = 0\n",
    "for i in range(CID.shape[0]):\n",
    "    if(CID[i]==flag):\n",
    "        c += 1 \n",
    "        s.append(Score[i])\n",
    "    else:\n",
    "        mean = sp.mean(s)\n",
    "        stddev = sp.std(s)\n",
    "        v = sp.var(s)\n",
    "        \n",
    "        # Count, mean, std-dev, var of each Customer\n",
    "        count.append(c); mu.append(mean) \n",
    "        sig.append(stddev); var.append(v)\n",
    "        \n",
    "        # Reinitializing the variables \n",
    "        s=[]\n",
    "        s.append(Score[i])\n",
    "        c=1\n",
    "        flag=CID[i]\n",
    "\n",
    "mean = sp.mean(s)\n",
    "stddev = sp.std(s)\n",
    "v = sp.var(s)\n",
    "        \n",
    "# Count, mean, std-dev, var of each Customer\n",
    "count.append(c); mu.append(mean) \n",
    "sig.append(stddev); var.append(v)"
   ]
  },
  {
   "cell_type": "code",
   "execution_count": 6,
   "metadata": {
    "collapsed": true
   },
   "outputs": [],
   "source": [
    "CID = sorted(list(set(CID)))"
   ]
  },
  {
   "cell_type": "code",
   "execution_count": 7,
   "metadata": {
    "collapsed": false
   },
   "outputs": [],
   "source": [
    "# Creating a new df of the information\n",
    "\n",
    "cinf = pd.DataFrame({'CustomerID':CID,'C-Freq':count,'C-Mean':mu,'C-std':sig,'C-var':var})"
   ]
  },
  {
   "cell_type": "code",
   "execution_count": 8,
   "metadata": {
    "collapsed": true
   },
   "outputs": [],
   "source": [
    "# Storing the df in a csv file\n",
    "\n",
    "cinf.to_csv('../data/Customer-info.csv')"
   ]
  }
 ],
 "metadata": {
  "kernelspec": {
   "display_name": "Python 2",
   "language": "python",
   "name": "python2"
  },
  "language_info": {
   "codemirror_mode": {
    "name": "ipython",
    "version": 2
   },
   "file_extension": ".py",
   "mimetype": "text/x-python",
   "name": "python",
   "nbconvert_exporter": "python",
   "pygments_lexer": "ipython2",
   "version": "2.7.13"
  }
 },
 "nbformat": 4,
 "nbformat_minor": 0
}
