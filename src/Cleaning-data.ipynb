{
 "cells": [
  {
   "cell_type": "code",
   "execution_count": 1,
   "metadata": {
    "collapsed": false
   },
   "outputs": [
    {
     "data": {
      "text/plain": [
       "(24053764, 4)"
      ]
     },
     "execution_count": 1,
     "metadata": {},
     "output_type": "execute_result"
    }
   ],
   "source": [
    "# Loading the dataset\n",
    "\n",
    "import pandas as pd\n",
    "df = pd.read_csv('../data/Whole_dataset1.txt')\n",
    "df.shape"
   ]
  },
  {
   "cell_type": "code",
   "execution_count": 2,
   "metadata": {
    "collapsed": true
   },
   "outputs": [],
   "source": [
    "# Changing the date format and making it an integer for efficiency\n",
    "\n",
    "import scipy as sp\n",
    "Date = df.Date.tolist()\n",
    "Date = [int(''.join(i.split('-'))) for i in Date]\n",
    "Date = sp.array(Date)\n",
    "df['Date'] = Date"
   ]
  },
  {
   "cell_type": "code",
   "execution_count": 3,
   "metadata": {
    "collapsed": false
   },
   "outputs": [],
   "source": [
    "# Performing one to one mapping as the CustomerIDs and MovieIDs have gaps between them\n",
    "\n",
    "df = df.sort_values(by='CustomerID')\n",
    "CID = sp.array(df.CustomerID)\n",
    "count = 0; flag = CID[0]\n",
    "for i in range(CID.shape[0]):\n",
    "    if(CID[i]==flag):\n",
    "        CID[i]=count\n",
    "    else:\n",
    "        count += 1\n",
    "        flag = CID[i]\n",
    "        CID[i]=count\n",
    "df['CustomerID'] = CID\n",
    "df = df.sort_values(by='MovieID')\n",
    "MID = sp.array(df.MovieID)\n",
    "count = 0; flag = MID[0]\n",
    "for i in range(MID.shape[0]):\n",
    "    if(MID[i]==flag):\n",
    "        MID[i]=count\n",
    "    else:\n",
    "        count += 1\n",
    "        flag = MID[i]\n",
    "        MID[i]=count\n",
    "df['MovieID'] = MID"
   ]
  },
  {
   "cell_type": "code",
   "execution_count": 4,
   "metadata": {
    "collapsed": true
   },
   "outputs": [],
   "source": [
    "# Sorting the dataframe wrt timestamp\n",
    "\n",
    "df = df.sort_values(by='Date')"
   ]
  },
  {
   "cell_type": "code",
   "execution_count": null,
   "metadata": {
    "collapsed": true
   },
   "outputs": [],
   "source": [
    "# Doing a spilt(test-train) on 70% mark and saving in a file separately\n",
    "\n",
    "l,_ = df.shape\n",
    "l = int(l*0.7)\n",
    "df.to_csv('../data/Wholedata-clean.csv')\n",
    "df[:l].to_csv('../data/train-data.csv')\n",
    "df[l:].to_csv('../data/test-data.csv')"
   ]
  }
 ],
 "metadata": {
  "kernelspec": {
   "display_name": "Python 2",
   "language": "python",
   "name": "python2"
  },
  "language_info": {
   "codemirror_mode": {
    "name": "ipython",
    "version": 2
   },
   "file_extension": ".py",
   "mimetype": "text/x-python",
   "name": "python",
   "nbconvert_exporter": "python",
   "pygments_lexer": "ipython2",
   "version": "2.7.13"
  }
 },
 "nbformat": 4,
 "nbformat_minor": 2
}
